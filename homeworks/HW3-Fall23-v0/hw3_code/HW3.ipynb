{
 "cells": [
  {
   "cell_type": "markdown",
   "id": "42b57d11",
   "metadata": {
    "id": "b32ba0fd"
   },
   "source": [
    "# Fall 2023 Applied NLP Homework 3\n",
    "\n",
    "## Instructors: Dr. Mahdi Roozbahani, Wafa Louhichi, Dr. Nimisha Roy\n",
    "\n",
    "## Deadline: November 3rd, 11:59PM AoE"
   ]
  },
  {
   "cell_type": "markdown",
   "id": "f2bbce98",
   "metadata": {
    "id": "eb689246"
   },
   "source": [
    "## Honor Code and Assignment Deadline\n",
    "<!-- No changes needed on the below section -->\n",
    "* No unapproved extension of the deadline is allowed. Late submission will lead to 0 credit. \n",
    "\n",
    "* Discussion is encouraged on Ed as part of the Q/A. However, all assignments should be done individually.\n",
    "\n",
    "* <font color='darkred'>Plagiarism is a **serious offense**. You are responsible for completing your own work. You are not allowed to copy and paste, or paraphrase, or submit materials created or published by others, as if you created the materials. All materials submitted must be your own.</font>\n",
    "\n",
    "* <font color='darkred'>All incidents of suspected dishonesty, plagiarism, or violations of the Georgia Tech Honor Code will be subject to the institute’s Academic Integrity procedures. If we observe any (even small) similarities/plagiarisms detected by Gradescope or our TAs, **WE WILL DIRECTLY REPORT ALL CASES TO OSI**, which may, unfortunately, lead to a very harsh outcome. **Consequences can be severe, e.g., academic probation or dismissal, grade penalties, a 0 grade for assignments concerned, and prohibition from withdrawing from the class.**\n",
    "</font>\n"
   ]
  },
  {
   "cell_type": "markdown",
   "id": "548b8413",
   "metadata": {
    "id": "18717a84"
   },
   "source": [
    "## Instructions for the assignment \n",
    "\n",
    "<!-- No changes needed on the below section -->\n",
    "- This entire assignment will be autograded through Gradescope. There are two Gradescope submissions for this assignment:\n",
    "    - **Homework 3**: Submit files for Q1 to Q3 to this section \n",
    "    - **Homework 3 - Bonus EC (Optional)**: Submit the Bonus Q4 file to this section\n",
    "\n",
    "- We provided you different .py files and we added libraries in those files please DO NOT remove those lines and add your code after those lines. Note that these are the only allowed libraries that you can use for the homework.\n",
    "\n",
    "- You will submit your implemented .py files to the corresponding homework section on Gradescope. \n",
    "\n",
    "- You are allowed to make as many submissions until the deadline as you like. Additionally, note that the autograder tests each function separately, therefore it can serve as a useful tool to help you debug your code if you are not sure of what part of your implementation might have an issue.\n"
   ]
  },
  {
   "cell_type": "markdown",
   "id": "626498e8",
   "metadata": {},
   "source": [
    "## Using the local tests <a id='using_local_tests'></a>\n",
    "- For some of the programming questions we have included a local test using a small toy dataset to aid in debugging. The local test sample data and outputs are stored in .py files in the **local_tests** folder\n",
    "- There are no points associated with passing or failing the local tests, you must still pass the autograder to get points. \n",
    "- **It is possible to fail the local test and pass the autograder** since the autograder has a certain allowed error tolerance while the local test allowed error may be smaller. Likewise, passing the local tests does not guarantee passing the autograder. \n",
    "- **You do not need to pass both local and autograder tests to get points, passing the Gradescope autograder is sufficient for credit.**\n",
    "- It might be helpful to comment out the tests for functions that have not been completed yet. \n",
    "- It is recommended to test the functions as it gets completed instead of completing the whole class and then testing. This may help in isolating errors. Do not solely rely on the local tests, continue to test on the autograder regularly as well. "
   ]
  },
  {
   "cell_type": "markdown",
   "id": "a87a5f0d",
   "metadata": {
    "id": "f3559faf"
   },
   "source": [
    "# Google Colab Setup (Optional for running on Colab)\n",
    "If you choose to work on the assignment on Google Colab, the following cell may help get you set up. You may need to right click on the Applied NLP folder and `Add shortcut to Drive`. You do not have to run this cell if you are working on the notebook locally."
   ]
  },
  {
   "cell_type": "code",
   "execution_count": 1,
   "id": "8ade04b2",
   "metadata": {
    "colab": {
     "base_uri": "https://localhost:8080/"
    },
    "id": "0066960d",
    "outputId": "ef5fd2e4-2d26-4f36-9115-3fcbbd7ec11e"
   },
   "outputs": [],
   "source": [
    "# # Mount google drive\n",
    "# from google.colab import drive\n",
    "# drive.mount('/content/drive/')\n",
    "# # You may need to create an Applied_NLP/HW#/hw#_code/ folder\n",
    "# %cd '/content/drive/MyDrive/Applied_NLP/HW#/hw#_code/'\n",
    "\n",
    "# ## If no GPU selected it will ask for GPU to be selected\n",
    "# gpu_info = !nvidia-smi\n",
    "# gpu_info = '\\n'.join(gpu_info)\n",
    "# if gpu_info.find('failed') >= 0:\n",
    "#   print('Select the Runtime > \"Change runtime type\" menu to enable a GPU accelerator, ')\n",
    "#   print('and then re-execute this cell.')\n",
    "# else:\n",
    "#   print(gpu_info)\n",
    "\n",
    "\n",
    "# ## This wraps output text according to the window size\n",
    "# from IPython.display import HTML, display\n",
    "\n",
    "# def set_css():\n",
    "#   display(HTML('''\n",
    "#   <style>\n",
    "#     pre {\n",
    "#         white-space: pre-wrap;\n",
    "#     }\n",
    "#   </style>\n",
    "#   '''))\n",
    "# get_ipython().events.register('pre_run_cell', set_css)"
   ]
  },
  {
   "cell_type": "markdown",
   "id": "df4a5d05",
   "metadata": {
    "id": "05409a58"
   },
   "source": [
    "# Assignment Overview"
   ]
  },
  {
   "cell_type": "markdown",
   "id": "334bf877",
   "metadata": {
    "id": "89d96973"
   },
   "source": [
    "In this homework we will explore non-linear text classification algorithms : Convolutional Neural Networks (CNNs) and Recurrent Neural Networks (RNNs). We will also look into another embedding techique : Word2Vec.\n",
    "\n",
    "We will reuse the datasets from HW2 for this exploration:\n",
    "* The first dataset is a subset of a [Clickbait Dataset](https://github.com/bhargaviparanjape/clickbait/tree/master/dataset) that has article headlines and a binary label on whether the headline is considered clickbait. \n",
    "* The second dataset is a subset of [Web of Science Dataset](https://data.mendeley.com/datasets/9rw3vkcfy4/6) that has articles and a corresponding label on the domain of the articles. \n",
    "\n",
    "We will first explore Continuous Bag-of-Words (CBOW) and Skip-gram based Word2Vec models using a very small dataset. We will then use pre-trained Word2Vec embeddings and feed them to the classification algorithms.\n",
    "\n",
    "As a bonus exercise, you will have the opportunity to write your own training loop to train a simple two layer neural net.\n",
    "\n",
    "**You will be using pytorch for coding the models in this homework.** [Tutorial](https://pytorch.org/tutorials/beginner/basics/quickstart_tutorial.html) and [Building model](https://pytorch.org/tutorials/beginner/basics/buildmodel_tutorial.html) are good references for those who are new to pytorch."
   ]
  },
  {
   "cell_type": "markdown",
   "id": "2de75888",
   "metadata": {
    "id": "e51f68d8"
   },
   "source": [
    "## Deliverables and Points Distribution\n",
    "\n",
    "### Q1: Word2Vec [45pts]\n",
    "- **1.1 Implementing CBOW from Scratch** [26pts] Deliverables: <font color = 'green'>word2vec.py</font>\n",
    "\n",
    "    - [2pts] tokenize (Word2Vec class)\n",
    "\n",
    "    - [5pts] create_vocabulary (Word2Vec class)\n",
    "\n",
    "    - [10pts] cbow_embeddings (Word2Vec class)\n",
    "\n",
    "    - [4pts] \\_\\_init__ (CBOW_Model class)\n",
    "    \n",
    "    - [5pts] forward (CBOW_Model class)\n",
    "\n",
    "- **1.2 Implementing Skip-Gram from Scratch** [19pts] Deliverables: <font color = 'green'>word2vec.py</font>\n",
    "\n",
    "    - [10pts] skipgram_embeddings (Word2Vec class)\n",
    "\n",
    "    - [4pts] \\_\\_init__ (SkipGram_Model class)\n",
    "\n",
    "    - [5pts] forward (SkipGram_Model class)\n",
    "\n",
    "### Q2: Classification with CNN [15pts]\n",
    "- **2.1 Implementing CNN** [10pts] Deliverables: <font color = 'green'>cnn.py</font>\n",
    "\n",
    "    - [3pts] \\_\\_init__\n",
    "\n",
    "    - [7pts] forward\n",
    "        - [2pts] forward_embed\n",
    "        - [3pts] forward_convs\n",
    "        - [2pts] forward\n",
    "- **2.3: Classifying Web of Science Dataset using CNN** [5pts] Deliverables: <font color = 'green'>cnn.py and best_cnn_model.pt</font>\n",
    "\n",
    "### Q3: Classification with RNN [15pts]\n",
    "- **3.1 Implementing RNN** [10pts] Deliverables: <font color = 'green'>rnn.py</font>\n",
    "\n",
    "    - [2pts] \\_\\_init__ \n",
    "\n",
    "    - [8pts] forward \n",
    "        - [2pts] forward_embed\n",
    "        - [2pts] forward_rnn\n",
    "        - [2pts] forward_concat\n",
    "        - [2pts] forward\n",
    "- **3.2: Classifying Clickbait Dataset using RNN** [5pts] Deliverables: <font color = 'green'>rnn.py and best_rnn_model.pt</font>   \n",
    "\n",
    "### Q4: Classification with NN (3.75pts Bonus Extra Credit)\n",
    "- **(Submit to Bonus Extra Credit section in Gradescope)**\n",
    "- **4.1 Implementing NN** [1.25pts] Deliverables: <font color = 'green'>nn.py</font>\n",
    "\n",
    "    - [1.25pts] \\_\\_init__\n",
    "\n",
    "- **4.4: Classifying Web of Science Dataset using NN** [2.5pts] Deliverables: <font color = 'green'>nn.py and best_nn_model.pt</font> \n",
    "    "
   ]
  },
  {
   "cell_type": "markdown",
   "id": "afbdfe59",
   "metadata": {
    "id": "f462ddb9"
   },
   "source": [
    "# Setup\n",
    "**Please checkout the environment_setup.md file to create the environment for this homework.** This notebook is tested under the package versions noted in the Library Imports cell output below, and the corresponding packages can be downloaded from [miniconda](https://docs.conda.io/en/latest/miniconda.html). You may also want to get yourself familiar with several packages:\n",
    "\n",
    "- [jupyter notebook](https://jupyter-notebook.readthedocs.io/en/stable/)\n",
    "- [numpy](https://docs.scipy.org/doc/numpy-1.15.1/user/quickstart.html)\n",
    "- [sklearn](https://matplotlib.org/users/pyplot_tutorial.html)\n",
    "- [pytorch](https://pytorch.org/)\n",
    "\n",
    "In the .py files please implement the functions that have `raise NotImplementedError`, and after you finish the coding, please delete or comment out `raise NotImplementedError`."
   ]
  },
  {
   "cell_type": "markdown",
   "id": "240c5e21",
   "metadata": {
    "id": "f056b4ff"
   },
   "source": [
    "## Library imports"
   ]
  },
  {
   "cell_type": "code",
   "execution_count": 1,
   "id": "afb15f88",
   "metadata": {
    "colab": {
     "base_uri": "https://localhost:8080/",
     "height": 124
    },
    "id": "73b47510",
    "outputId": "28d7ed83-92ab-4951-de7e-79679cc41ee6"
   },
   "outputs": [
    {
     "name": "stdout",
     "output_type": "stream",
     "text": [
      "Version information\n",
      "python: 3.8.18 (default, Sep 11 2023, 08:17:16) \n",
      "[Clang 14.0.6 ]\n",
      "pandas: 2.0.3\n",
      "numpy: 1.24.3\n",
      "scipy: 1.10.1\n",
      "sns: 0.12.2\n",
      "gensim: 3.8.0\n",
      "torchtext: 0.16.0\n",
      "sklearn: 1.3.0\n",
      "torch: 2.1.0\n"
     ]
    }
   ],
   "source": [
    "#Import the necessary libraries\n",
    "import pandas as pd\n",
    "import numpy as np\n",
    "import scipy as sp\n",
    "import sys, re, pickle, random\n",
    "from copy import deepcopy\n",
    "import seaborn as sns\n",
    "import gensim             \n",
    "import torchtext\n",
    "import sklearn\n",
    "from sklearn.metrics import accuracy_score\n",
    "import torch\n",
    "import torch.nn as nn\n",
    "from torch import optim\n",
    "torch.manual_seed(10)\n",
    "from torch.autograd import Variable\n",
    "import torch.nn.functional as F\n",
    "from torch.utils.data import DataLoader\n",
    "import warnings\n",
    "warnings.filterwarnings(\"ignore\")\n",
    "\n",
    "%load_ext autoreload\n",
    "%autoreload 2\n",
    "%reload_ext autoreload\n",
    "\n",
    "print('Version information')\n",
    "\n",
    "print('python: {}'.format(sys.version))\n",
    "print('pandas: {}'.format(pd.__version__))\n",
    "print('numpy: {}'.format(np.__version__))\n",
    "print('scipy: {}'.format(sp.__version__))\n",
    "print('sns: {}'.format(sns.__version__))\n",
    "print('gensim: {}'.format(gensim.__version__))        \n",
    "print('torchtext: {}'.format(torchtext.__version__))\n",
    "print('sklearn: {}'.format(sklearn.__version__))\n",
    "print('torch: {}'.format(torch.__version__))"
   ]
  },
  {
   "cell_type": "markdown",
   "id": "f7c799c2",
   "metadata": {
    "id": "eff26cb3"
   },
   "source": [
    "# Load Dataset\n"
   ]
  },
  {
   "cell_type": "markdown",
   "id": "bc1752be",
   "metadata": {
    "id": "837cc1e5"
   },
   "source": [
    "We start by loading both data sets already split into an 80/20 train and test set."
   ]
  },
  {
   "cell_type": "code",
   "execution_count": 2,
   "id": "efd9b985",
   "metadata": {
    "colab": {
     "base_uri": "https://localhost:8080/",
     "height": 17
    },
    "id": "e2b97025",
    "outputId": "391ea7e2-f53d-40d4-cd91-d7989f239c7e"
   },
   "outputs": [],
   "source": [
    "###############################\n",
    "### DO NOT CHANGE THIS CELL ###\n",
    "###############################\n",
    "\n",
    "df_train = pd.read_csv('./data/train.csv')\n",
    "df_test = pd.read_csv('./data/test.csv')\n",
    "\n",
    "# Separate dataframes into train and test lists\n",
    "x_train, y_train = list(df_train['headline']), list(df_train['label'])\n",
    "x_test, y_test = list(df_test['headline']), list(df_test['label'])"
   ]
  },
  {
   "cell_type": "markdown",
   "id": "100ab98e",
   "metadata": {
    "id": "15f2a21c"
   },
   "source": [
    "Below is the number of headlines in the train and test set as well as a sample of the article headlines and its binary label, where 0 is considered not clickbait and 1 is clickbait."
   ]
  },
  {
   "cell_type": "code",
   "execution_count": 3,
   "id": "459229bf",
   "metadata": {
    "colab": {
     "base_uri": "https://localhost:8080/",
     "height": 410
    },
    "id": "11e3ebf5",
    "outputId": "97c351fe-624d-4b6c-b8e2-1cf03ad30dd8"
   },
   "outputs": [
    {
     "name": "stdout",
     "output_type": "stream",
     "text": [
      "Number of Train Headlines: 19200\n",
      "Number of Test Headlines: 4800\n",
      "\n",
      "\n",
      "Sample Label and Headlines:\n",
      "1: 27 Breathtaking Alternatives To A Traditional Wedding Bouquet <br>\n",
      "\n",
      "1: 22 Pictures People Who Aren't Grad Students Will <strong>Never</strong> Understand\n",
      "\n",
      "0: PepsiCo Profit Falls 43 Percent\n",
      "\n",
      "0: Website of Bill O'Reilly, FOX News commentator, hacked in retribution\n",
      "\n",
      "1: The Green Toy Soldiers From Your Childhood Now Come In Baller Yoga Poses A\n",
      "\n",
      "\n",
      "Output of Sample Headlines without Print Statement:\n"
     ]
    },
    {
     "data": {
      "text/plain": [
       "['27 Breathtaking Alternatives To A Traditional Wedding Bouquet <br>\\n',\n",
       " \"22 Pictures People Who Aren't Grad Students Will <strong>Never</strong> Understand\\n\",\n",
       " 'PepsiCo Profit Falls 43 Percent\\n',\n",
       " \"Website of Bill O'Reilly, FOX News commentator, hacked in retribution\\n\",\n",
       " 'The Green Toy Soldiers From Your Childhood Now Come In Baller Yoga Poses A\\n']"
      ]
     },
     "execution_count": 3,
     "metadata": {},
     "output_type": "execute_result"
    }
   ],
   "source": [
    "###############################\n",
    "### DO NOT CHANGE THIS CELL ###\n",
    "###############################\n",
    "\n",
    "print(f'Number of Train Headlines: {len(x_train)}')\n",
    "print(f'Number of Test Headlines: {len(x_test)}')\n",
    "\n",
    "print('\\n\\nSample Label and Headlines:')\n",
    "x = 105\n",
    "for label, line in zip(y_train[x:x+5], x_train[x:x+5]):\n",
    "    print(f'{label}: {line}')\n",
    "    \n",
    "print('\\nOutput of Sample Headlines without Print Statement:')\n",
    "x_train[x:x+5]"
   ]
  },
  {
   "cell_type": "code",
   "execution_count": 4,
   "id": "0a62fabf",
   "metadata": {
    "colab": {
     "base_uri": "https://localhost:8080/",
     "height": 17
    },
    "id": "20a8debc",
    "outputId": "2d934897-8f6f-49bb-a85c-d627017dd8b0"
   },
   "outputs": [],
   "source": [
    "###############################\n",
    "### DO NOT CHANGE THIS CELL ###\n",
    "###############################\n",
    "\n",
    "df_train_wos = pd.read_csv('./data/train_wos.csv')\n",
    "df_test_wos = pd.read_csv('./data/test_wos.csv')\n",
    "\n",
    "# Separate dataframes into train and test lists\n",
    "x_train_wos, y_train_wos = list(df_train_wos['article']), list(df_train_wos['label'])\n",
    "x_test_wos, y_test_wos = list(df_test_wos['article']), list(df_test_wos['label'])\n",
    "\n",
    "# Numerical label to domain mapping\n",
    "wos_label = {0:'CS', 1:'ECE', 2:'Civil', 3:'Medical'}\n",
    "# Numerical label to Numerical mapping\n",
    "label_mapping = {0:0, 1:1, 4:2, 5:3}\n",
    "\n",
    "for i, label in enumerate(y_train_wos):\n",
    "    y_train_wos[i] = label_mapping[label]\n",
    "for i, label in enumerate(y_test_wos):\n",
    "    y_test_wos[i] = label_mapping[label]"
   ]
  },
  {
   "cell_type": "code",
   "execution_count": 5,
   "id": "fe87a32a",
   "metadata": {
    "colab": {
     "base_uri": "https://localhost:8080/",
     "height": 606
    },
    "id": "d24ac5b6",
    "outputId": "f5df643b-a8d5-41de-cba7-eede9bbaa59c"
   },
   "outputs": [
    {
     "name": "stdout",
     "output_type": "stream",
     "text": [
      "Number of Train Articles: 1600\n",
      "Number of Test Articles: 400\n",
      "\n",
      "Label Key: {0: 'CS', 1: 'ECE', 2: 'Civil', 3: 'Medical'}\n",
      "\n",
      "Sample Label and Articles:\n",
      "\n",
      "0 - CS: An efficient procedure for calculating the electromagnetic fields in multilayered cylindrical structures is reported in this paper. Using symbolic computation, spectral Green's functions, suitable for numerical implementations are determined in compact and closed forms. Applications are presented for structures with two dielectric layers.\n",
      "\n",
      "1 - ECE: A multifunctional platform based on the microhotplate was developed for applications including a Pirani vacuum gauge, temperature, and gas sensor. It consisted of a tungsten microhotplate and an on-chip operational amplifier. The platform was fabricated in a standard complementary metal oxide semiconductor (CMOS) process. A tungsten plug in standard CMOS process was specially designed as the serpentine resistor for the microhotplate, acting as both heater and thermister. With the sacrificial layer technology, the microhotplate was suspended over the silicon substrate with a 340 nm gap. The on-chip operational amplifier provided a bias current for the microhotplate. This platform has been used to develop different kinds of sensors. The first one was a Pirani vacuum gauge ranging from 10(-1) to 10(5) Pa. The second one was a temperature sensor ranging from -20 to 70 degrees C. The third one was a thermal-conductivity gas sensor, which could distinguish gases with different thermal conductivities in constant gas pressure and environment temperature. In the fourth application, with extra fabrication processes including the deposition of gas-sensitive film, the platform was used as a metal-oxide gas sensor for the detection of gas concentration.\n",
      "\n",
      "2 - Civil: Artificial neural networks have been effectively used in various civil engineering fields, including construction management and labour productivity. In this study, the performance of the feed forward neural network (FFNN) was compared with radial basis neural network (RBNN) in modelling the productivity of masonry crews. A variety of input factors were incorporated and analysed. Mean absolute percentage error (MAPE) and correlation coefficient (R) were used to evaluate model performance. Research results indicated that the neural computing techniques could be successfully employed in modelling crew productivity. It was also found that successful models could be developed with different combinations of input factors, and several of the models which excluded one or more input factors turned out to be better than the baseline models. Based on the MAPE values obtained for the models, the RBNN technique was found to be better than the FFNN technique, although both slightly overestimated the masons' productivity.\n",
      "\n"
     ]
    }
   ],
   "source": [
    "###############################\n",
    "### DO NOT CHANGE THIS CELL ###\n",
    "###############################\n",
    "\n",
    "print(f'Number of Train Articles: {len(x_train_wos)}')\n",
    "print(f'Number of Test Articles: {len(x_test_wos)}')\n",
    "\n",
    "print('\\nLabel Key:', wos_label)\n",
    "\n",
    "print('\\nSample Label and Articles:\\n')\n",
    "x = 107\n",
    "for label, line in zip(y_train_wos[x:x+3], x_train_wos[x:x+3]):\n",
    "    print(f'{label} - {wos_label[label]}: {line}')"
   ]
  },
  {
   "cell_type": "markdown",
   "id": "39d62fce",
   "metadata": {
    "id": "7M6Npz6qFN1q"
   },
   "source": [
    "## Q1: Word2Vec [45pts]\n",
    "\n",
    "Word2vec is a method to efficiently create word embeddings. More details on word2vec and the intuition behind it can be found here :  \n",
    "* [The Illustrated Word2vec by Jay Alammar](https://jalammar.github.io/illustrated-word2vec/)\n",
    "\n",
    "Word2vec is based on the idea that a word’s meaning is defined by its context. Context is represented as surrounding words. For the word2vec model, context is represented as N words before and N words after the current word. N is a hyperparameter. With larger N we can create better embeddings, but at the same time, such a model requires more computational resources. \n",
    "\n",
    "There are two word2vec architectures proposed in the paper:\n",
    "\n",
    "* CBOW (Continuous Bag-of-Words) — a model that predicts a current word based on its context words.\n",
    "* Skip-Gram — a model that predicts context words based on the current word.\n",
    "\n",
    "We will be running our Word2Vec models on a very small dataset as described below."
   ]
  },
  {
   "cell_type": "code",
   "execution_count": 6,
   "id": "96536423",
   "metadata": {
    "colab": {
     "base_uri": "https://localhost:8080/",
     "height": 17
    },
    "id": "mC1mB6pYqP4U",
    "outputId": "41393f89-e928-40c9-c875-e603e36affd9"
   },
   "outputs": [],
   "source": [
    "corpus = [\n",
    "    'he is a king',\n",
    "    'she is a queen',\n",
    "    'he is a man',\n",
    "    'she is a woman',\n",
    "    'warsaw is poland capital',\n",
    "    'berlin is germany capital',\n",
    "    'paris is france capital',   \n",
    "]"
   ]
  },
  {
   "cell_type": "markdown",
   "id": "c9e54b75",
   "metadata": {
    "id": "-Np3UUmtFUjd"
   },
   "source": [
    "## 1.1: Implementing Continuous Bag-of-words From Scratch [26pts]\n",
    "In the **word2vec.py** file complete the following functions:\n",
    "  * <strong>tokenize</strong> (Word2Vec class)\n",
    "  * <strong>create_vocabulary</strong> (Word2Vec class)\n",
    "  * <strong>cbow_embeddings</strong> (Word2Vec class)\n",
    "  * <strong>\\_\\_init__</strong> (CBOW_Model class)\n",
    "  * <strong>forward</strong> (CBOW_Model class)\n",
    "\n",
    "A high level overview of the CBOW model can be described as :    \n",
    "<p align=\"center\"><img src=\"https://miro.medium.com/max/1400/1*ETcgajy5s0KNIfMgE5xOqg.png\" width=\"75%\" align=\"center\"></p>\n",
    "\n",
    "CBOW model takes several words, each goes through the same Embedding layer, and then word embedding vectors are averaged before going into the Linear layer.\n",
    "\n",
    "We will be implementing this model using the architecture described below :    \n",
    "\n",
    "<p align=\"center\"><img src=\"https://miro.medium.com/max/1400/1*mLDM3PH12CjhaFoUm5QTow.png\" width=\"75%\" align=\"center\"></p>\n",
    "\n",
    "Here are the steps that needs to be followed for implementing CBOW model :    \n",
    "* Step-1: Create vocabulary\n",
    "  * Split each words into tokens.\n",
    "  * Assign a unique ID to each unique token.\n",
    "\n",
    "* Step-2: Create CBOW Embeddings\n",
    "  * Create CBOW embeddings by taking context as N past words and N future words.\n",
    "\n",
    "* Step-3: Implement CBOW Model\n",
    "  * Implement CBOW model as described in the architecture above.\n",
    "  \n",
    "<b>Hint:</b> Since we are using the cross entropy loss, there is no need to apply the softmax after the linear layer.\n"
   ]
  },
  {
   "cell_type": "markdown",
   "id": "5e349c0f",
   "metadata": {},
   "source": [
    "### 1.1.1: Local Tests for CBOW Functions [No Points]\n",
    "You may test your implementation of the CBOW functions contained in **word2vec.py** in the cell below. Feel free to comment out tests for functions that have not been completed yet. See [Using the Local Tests](#using_local_tests) for more details.\n",
    "\n",
    "🦊 *Hint: Did you know that pytorch state dicts are dictionaries? You can load the basic_cbow_model.pt file into a variable to see the expected shapes of the layers and compare to your model's initalized layer shapes. See line 32 for an example on how to access the cbow model's state dict. Feel free to try this out for other models in this homework.*"
   ]
  },
  {
   "cell_type": "code",
   "execution_count": 7,
   "id": "1d37c9da",
   "metadata": {},
   "outputs": [
    {
     "name": "stdout",
     "output_type": "stream",
     "text": [
      "Local Tests for Word2Vec & CBOW Functions \n",
      "\n",
      "Your tokenize works as expected: True\n",
      "Your create_vocabulary works as expected: True\n",
      "Your cbow_embeddings works as expected: True\n",
      "Your forward works as expected: True\n"
     ]
    }
   ],
   "source": [
    "###############################\n",
    "### DO NOT CHANGE THIS CELL ###\n",
    "###############################\n",
    "\n",
    "from word2vec import Word2Vec, CBOW_Model\n",
    "from local_tests.word2vec_test import Word2Vec_Test\n",
    "\n",
    "local_test = Word2Vec_Test()\n",
    "stu_w2v = Word2Vec()\n",
    "\n",
    "print('Local Tests for Word2Vec & CBOW Functions \\n')\n",
    "\n",
    "# Local test for tokenize\n",
    "output = stu_w2v.tokenize(local_test.corpus_data)\n",
    "tokens_test = (output == local_test.tokens)\n",
    "print('Your tokenize works as expected:', tokens_test)\n",
    "\n",
    "# Local test for create_vocabulary\n",
    "stu_w2v.create_vocabulary(local_test.tokens)\n",
    "create_vocab_test = ((stu_w2v.word2idx == local_test.word2idx) and (stu_w2v.idx2word == local_test.idx2word) and \\\n",
    "                     (stu_w2v.vocabulary_size == local_test.vocab_size))\n",
    "print('Your create_vocabulary works as expected:', create_vocab_test)\n",
    "\n",
    "# Local test for cbow_embeddings\n",
    "source, target = stu_w2v.cbow_embeddings(local_test.tokens)\n",
    "cbow_embed_test = ((source == local_test.cbow_source) and (target == local_test.cbow_target))\n",
    "print('Your cbow_embeddings works as expected:', cbow_embed_test)\n",
    "\n",
    "# Instantiate CBOW_Model and load weights for local tests\n",
    "torch.manual_seed(10)\n",
    "cbow_model = CBOW_Model(local_test.vocab_size)\n",
    "cbow_state_dict = cbow_model.state_dict()\n",
    "\n",
    "# If loading the state dict causes an error, then there may be an issue with your init implementation\n",
    "cbow_model.load_state_dict(torch.load('./local_tests/basic_cbow_model.pt'))\n",
    "\n",
    "# Local test for forward\n",
    "outputs = []\n",
    "for i in range(len(local_test.cbow_source)):\n",
    "    output = cbow_model(torch.from_numpy(np.array(local_test.cbow_source[i])))\n",
    "    output_test = (torch.allclose(output, local_test.cbow_forward[i], rtol=0.0001, atol=0.0001) and \\\n",
    "                      output.shape == local_test.cbow_forward[i].shape)\n",
    "    outputs.append(output_test)\n",
    "\n",
    "forward_test = np.all(outputs)\n",
    "print('Your forward works as expected:', forward_test)"
   ]
  },
  {
   "cell_type": "markdown",
   "id": "ed38c977",
   "metadata": {
    "id": "jd9OaAf9qZ5r"
   },
   "source": [
    "### 1.1.2: Fetching CBOW embeddings [No Points]\n",
    "Run the below cell to fetch CBOW embeddings using functions that you have already implemented in **1.1**."
   ]
  },
  {
   "cell_type": "code",
   "execution_count": 8,
   "id": "c7190cb4",
   "metadata": {
    "colab": {
     "base_uri": "https://localhost:8080/",
     "height": 17
    },
    "id": "6bd51ab7",
    "outputId": "2ecda65b-64cc-458b-9c1c-102cb0a9e7b1"
   },
   "outputs": [],
   "source": [
    "###############################\n",
    "### DO NOT CHANGE THIS CELL ###\n",
    "###############################\n",
    "\n",
    "from word2vec import Word2Vec\n",
    "\n",
    "w2v = Word2Vec()\n",
    "tokens = w2v.tokenize(corpus)\n",
    "w2v.create_vocabulary(tokens)\n",
    "source, target = w2v.cbow_embeddings(tokens)"
   ]
  },
  {
   "cell_type": "markdown",
   "id": "309593a2",
   "metadata": {
    "id": "3t3BiUU1rMM6"
   },
   "source": [
    "### 1.1.3: Training CBOW model [No Points]\n",
    "Run the below cell to train CBOW model using functions that you have already implemented in **1.1**."
   ]
  },
  {
   "cell_type": "code",
   "execution_count": 9,
   "id": "ae488380",
   "metadata": {
    "colab": {
     "base_uri": "https://localhost:8080/",
     "height": 196
    },
    "id": "1fCSFxldedmf",
    "outputId": "6dc04ce3-941e-409e-8a62-e758b2ad4f3e"
   },
   "outputs": [
    {
     "name": "stdout",
     "output_type": "stream",
     "text": [
      "loss on epoch 0: 75.462700\n",
      "loss on epoch 20: 43.635433\n",
      "loss on epoch 40: 33.216587\n",
      "loss on epoch 60: 28.291735\n",
      "loss on epoch 80: 25.529060\n",
      "loss on epoch 100: 23.651031\n",
      "loss on epoch 120: 22.378246\n",
      "loss on epoch 140: 21.563906\n",
      "loss on epoch 160: 21.284122\n",
      "loss on epoch 180: 20.646511\n",
      "loss on epoch 200: 20.117886\n",
      "loss on epoch 220: 20.096992\n",
      "loss on epoch 240: 19.625557\n",
      "loss on epoch 260: 19.531887\n",
      "loss on epoch 280: 19.402203\n"
     ]
    }
   ],
   "source": [
    "###############################\n",
    "### DO NOT CHANGE THIS CELL ###\n",
    "###############################\n",
    "\n",
    "from word2vec import CBOW_Model\n",
    "\n",
    "N_EPOCHS = 300\n",
    "model = CBOW_Model(w2v.vocabulary_size)\n",
    "optimizer = optim.Adam(model.parameters(), lr=0.001)\n",
    "\n",
    "device = torch.device(\"cuda\" if torch.cuda.is_available() else \"cpu\")\n",
    "model.to(device)\n",
    "criterion = nn.CrossEntropyLoss()\n",
    "\n",
    "for epoch in range(N_EPOCHS):\n",
    "    total_loss = 0.0\n",
    "    shuffled_i = list(range(0,len(target)))\n",
    "    random.shuffle(shuffled_i)\n",
    "    for i in shuffled_i:\n",
    "        x = torch.from_numpy(np.asarray(source[i])).long().to(device)\n",
    "        y = torch.from_numpy(np.asarray(target[i])).long().to(device)\n",
    "\n",
    "        optimizer.zero_grad()\n",
    "        outputs = model(x)\n",
    "        loss = criterion(outputs, y)\n",
    "        total_loss += loss\n",
    "        loss.backward()\n",
    "        optimizer.step()\n",
    "        \n",
    "    if epoch % 20 == 0:    \n",
    "        print(\"loss on epoch %i: %f\" % (epoch, total_loss))"
   ]
  },
  {
   "cell_type": "markdown",
   "id": "3e8005c3",
   "metadata": {
    "id": "GvdTvbADsOgr"
   },
   "source": [
    "### 1.1.4: Visualizing CBOW embeddings [No Points]\n",
    "Run the below cells to visualize CBOW embeddings."
   ]
  },
  {
   "cell_type": "code",
   "execution_count": 10,
   "id": "c9b15b86",
   "metadata": {
    "colab": {
     "base_uri": "https://localhost:8080/",
     "height": 17
    },
    "id": "pgmVkIigg1xr",
    "outputId": "94f2ec1e-dfe6-4c7d-ab93-adbd4785d308"
   },
   "outputs": [],
   "source": [
    "###############################\n",
    "### DO NOT CHANGE THIS CELL ###\n",
    "###############################\n",
    "\n",
    "# embedding from first model layer\n",
    "embeddings = list(model.parameters())[0]\n",
    "embeddings = embeddings.cpu().detach().numpy()\n",
    "\n",
    "# normalization\n",
    "norms = (embeddings ** 2).sum(axis=1) ** (1 / 2)\n",
    "norms = np.reshape(norms, (len(norms), 1))\n",
    "embeddings_norm = embeddings / norms"
   ]
  },
  {
   "cell_type": "markdown",
   "id": "3446d4c5",
   "metadata": {},
   "source": [
    "Here, we use truncated SVD to project the learned word2vec embedding to 2D space for visualization. Feel free to tune the learning rate in the training part for different results."
   ]
  },
  {
   "cell_type": "code",
   "execution_count": 11,
   "id": "7181380e",
   "metadata": {
    "colab": {
     "base_uri": "https://localhost:8080/",
     "height": 265
    },
    "id": "PYcXX6AIpcun",
    "outputId": "6a76217b-527b-410c-ae23-e81eccd32115"
   },
   "outputs": [
    {
     "data": {
      "image/png": "[encoded data removed]",
      "text/plain": [
       "<Figure size 640x480 with 1 Axes>"
      ]
     },
     "metadata": {},
     "output_type": "display_data"
    }
   ],
   "source": [
    "###############################\n",
    "### DO NOT CHANGE THIS CELL ###\n",
    "###############################\n",
    "\n",
    "import seaborn as sns\n",
    "from sklearn import decomposition\n",
    "\n",
    "w2v.word2idx[''] = 0\n",
    "svd = decomposition.TruncatedSVD(n_components=2)\n",
    "W2_dec = svd.fit_transform(embeddings)\n",
    "\n",
    "x = W2_dec[:,0]\n",
    "y = W2_dec[:,1]\n",
    "plot = sns.scatterplot(x=x, y=y)\n",
    "\n",
    "for i in range(0,W2_dec.shape[0]):\n",
    "     plot.text(x[i], y[i]+2e-2, list(w2v.word2idx)[i], horizontalalignment='center', size='small', color='black', weight='semibold');"
   ]
  },
  {
   "cell_type": "markdown",
   "id": "803a54da",
   "metadata": {},
   "source": [
    "Here, we will look into the learned property of the word2vec embedding. Warsaw is the capital of Poland and we now calculate the difference between embeddings of \"warsaw\" and \"poland\". After that, we add the difference to the embedding of \"paris\". We then rank the dot product of the computed embedding vs all the embeddings. Notice that the larger this value, the more similar two embeddings are. Feel free to play with different word pairs."
   ]
  },
  {
   "cell_type": "code",
   "execution_count": 12,
   "id": "79d90603",
   "metadata": {
    "colab": {
     "base_uri": "https://localhost:8080/",
     "height": 106
    },
    "id": "3V4LYCq5mVB1",
    "outputId": "c652ce3a-0ca3-49f6-ec29-d1b22c0fdb6e"
   },
   "outputs": [
    {
     "name": "stdout",
     "output_type": "stream",
     "text": [
      "poland: 0.676\n",
      "paris: 0.482\n",
      "germany: 0.266\n",
      "france: 0.162\n",
      "woman: 0.035\n"
     ]
    }
   ],
   "source": [
    "emb1 = embeddings[w2v.word2idx[\"poland\"]]\n",
    "emb2 = embeddings[w2v.word2idx[\"warsaw\"]]\n",
    "emb3 = embeddings[w2v.word2idx[\"paris\"]]\n",
    "\n",
    "emb4 = emb1 - emb2 + emb3\n",
    "emb4_norm = (emb4 ** 2).sum() ** (1 / 2)\n",
    "emb4 = emb4 / emb4_norm\n",
    "\n",
    "emb4 = np.reshape(emb4, (len(emb4), 1))\n",
    "dists = np.matmul(embeddings_norm, emb4).flatten()\n",
    "\n",
    "top5 = np.argsort(-dists)[:5]\n",
    "\n",
    "for word_id in top5:\n",
    "    print(\"{}: {:.3f}\".format(w2v.idx2word[word_id], dists[word_id]))"
   ]
  },
  {
   "cell_type": "markdown",
   "id": "24e4df03",
   "metadata": {
    "id": "4TLUiFFR7wlL"
   },
   "source": [
    "## 1.2: Implementing Skip-Gram From Scratch [19pts]\n",
    "In the **word2vec.py** file complete the following functions:\n",
    "  * <strong>skipgram_embeddings</strong> (Word2Vec class)\n",
    "  * <strong>\\_\\_init__</strong> (SkipGram_Model class)\n",
    "  * <strong>forward</strong> (SkipGram_Model class)\n",
    "\n",
    "A high level overview of the SkipGram model can be described as :    \n",
    "<p align=\"center\"><img src=\"https://miro.medium.com/max/720/1*SVs6xTpD7AYviP24UTOYUA.png\" width=\"75%\" align=\"center\"></p>\n",
    "\n",
    "The Skip-Gram model takes a single word as compared to CBOW model.\n",
    "\n",
    "We will be implementing this model using the architecture described below :    \n",
    "\n",
    "<p align=\"center\"><img src=\"https://miro.medium.com/max/720/1*eHh1_t8Wms_hqDNBLuAnFg.png\" width=\"75%\" align=\"center\"></p>\n",
    "\n",
    "Here are the steps that needs to be followed for implementing SkipGram model :    \n",
    "* Step-1: Create vocabulary\n",
    "  * Split each words into tokens.\n",
    "  * Assign a unique ID to each unique token.\n",
    "\n",
    "* Step-2: Create SkipGram Embeddings\n",
    "  * Create SkipGram embeddings by taking context as middle word.\n",
    "\n",
    "* Step-3: Implement SkipGram Model\n",
    "  * Implement SkipGram model as described in the architecture above. Output SkipGram embeddings for N past words and N future words.\n",
    "\n",
    "**Hint:** Since we are using the cross entropy loss, there is no need to apply the softmax after the linear layer."
   ]
  },
  {
   "cell_type": "markdown",
   "id": "083dd7b4",
   "metadata": {},
   "source": [
    "### 1.2.1: Local Tests for SkipGram Functions [No Points]\n",
    "You may test your implementation of the SkipGram functions contained in **word2vec.py** in the cell below. Feel free to comment out tests for functions that have not been completed yet. See [Using the Local Tests](#using_local_tests) for more details."
   ]
  },
  {
   "cell_type": "code",
   "execution_count": 13,
   "id": "3647080d",
   "metadata": {
    "scrolled": true
   },
   "outputs": [
    {
     "name": "stdout",
     "output_type": "stream",
     "text": [
      "Local Tests for Skipgram Functions \n",
      "\n",
      "Your skipgram_embeddings works as expected: True\n",
      "Your forward works as expected: True\n"
     ]
    }
   ],
   "source": [
    "###############################\n",
    "### DO NOT CHANGE THIS CELL ###\n",
    "###############################\n",
    "\n",
    "from word2vec import Word2Vec, SkipGram_Model\n",
    "from local_tests.word2vec_test import Word2Vec_Test\n",
    "\n",
    "local_test = Word2Vec_Test()\n",
    "stu_w2v = Word2Vec()\n",
    "stu_w2v.create_vocabulary(local_test.tokens)\n",
    "\n",
    "print('Local Tests for Skipgram Functions \\n')\n",
    "\n",
    "# Local test for skipgram_embeddings\n",
    "source, target = stu_w2v.skipgram_embeddings(local_test.tokens)\n",
    "skipgram_embed_test = ((source == local_test.sg_source) and (target == local_test.sg_target))\n",
    "print('Your skipgram_embeddings works as expected:', skipgram_embed_test)\n",
    "\n",
    "# Instantiate SkipGram_Model and load weights for local tests\n",
    "torch.manual_seed(10)\n",
    "sg_model = SkipGram_Model(local_test.vocab_size)\n",
    "# If loading the state dict causes an error, then there may be an issue with your init implementation\n",
    "sg_model.load_state_dict(torch.load('./local_tests/basic_sg_model.pt'))\n",
    "\n",
    "# Local test for forward\n",
    "output = sg_model(torch.from_numpy(np.array(local_test.sg_source[:12])).squeeze())\n",
    "forward_test = (torch.allclose(output, local_test.sg_forward, rtol=0.0001, atol=0.0001) and \\\n",
    "                      output.shape == local_test.sg_forward.shape)\n",
    "print('Your forward works as expected:', forward_test)"
   ]
  },
  {
   "cell_type": "markdown",
   "id": "8a35f4e5",
   "metadata": {
    "id": "IVCLHrC788LU"
   },
   "source": [
    "### 1.2.2: Fetching SkipGram embeddings [No Points]\n",
    "Run the below cell to fetch **SkipGram** embeddings using functions that you have already implemented in 1.2."
   ]
  },
  {
   "cell_type": "code",
   "execution_count": 14,
   "id": "d1458760",
   "metadata": {
    "colab": {
     "base_uri": "https://localhost:8080/",
     "height": 17
    },
    "id": "ecu9TMvO83p9",
    "outputId": "f658bea1-dbdc-4867-d1fd-9b0bf25cc2e7"
   },
   "outputs": [],
   "source": [
    "###############################\n",
    "### DO NOT CHANGE THIS CELL ###\n",
    "###############################\n",
    "\n",
    "from word2vec import Word2Vec\n",
    "\n",
    "w2v = Word2Vec()\n",
    "tokens = w2v.tokenize(corpus)\n",
    "w2v.create_vocabulary(tokens)\n",
    "source, target = w2v.skipgram_embeddings(tokens)"
   ]
  },
  {
   "cell_type": "markdown",
   "id": "e14474b0",
   "metadata": {
    "id": "4lU_G6iB9N9d"
   },
   "source": [
    "### 1.2.3: Training SkipGram model [No Points]\n",
    "Run the below cell to train SkipGram model using functions that you have already implemented in **1.2**."
   ]
  },
  {
   "cell_type": "code",
   "execution_count": 15,
   "id": "e36a36e5",
   "metadata": {
    "colab": {
     "base_uri": "https://localhost:8080/",
     "height": 196
    },
    "id": "JGRhDekI83si",
    "outputId": "c7fec093-54d0-4b8a-95b0-21b5030e6fa9"
   },
   "outputs": [
    {
     "name": "stdout",
     "output_type": "stream",
     "text": [
      "loss on epoch 0: 187.836655\n",
      "loss on epoch 20: 125.407608\n",
      "loss on epoch 40: 119.018394\n",
      "loss on epoch 60: 116.946716\n",
      "loss on epoch 80: 115.705643\n",
      "loss on epoch 100: 115.071609\n",
      "loss on epoch 120: 114.294228\n",
      "loss on epoch 140: 114.194412\n",
      "loss on epoch 160: 114.973785\n",
      "loss on epoch 180: 114.684692\n",
      "loss on epoch 200: 113.685402\n",
      "loss on epoch 220: 114.288948\n",
      "loss on epoch 240: 113.968666\n",
      "loss on epoch 260: 113.406578\n",
      "loss on epoch 280: 113.422012\n"
     ]
    }
   ],
   "source": [
    "###############################\n",
    "### DO NOT CHANGE THIS CELL ###\n",
    "###############################\n",
    "\n",
    "from word2vec import SkipGram_Model\n",
    "\n",
    "N_EPOCHS = 300\n",
    "model = SkipGram_Model(w2v.vocabulary_size)\n",
    "optimizer = optim.Adam(model.parameters(), lr=0.001)\n",
    "\n",
    "device = torch.device(\"cuda\" if torch.cuda.is_available() else \"cpu\")\n",
    "model.to(device)\n",
    "criterion = nn.CrossEntropyLoss()\n",
    "\n",
    "for epoch in range(N_EPOCHS):\n",
    "    total_loss = 0.0\n",
    "    shuffled_i = list(range(0,len(target)))\n",
    "    random.shuffle(shuffled_i)\n",
    "    for i in shuffled_i:\n",
    "        x = torch.from_numpy(np.asarray(source[i])).long().to(device)\n",
    "        y = torch.from_numpy(np.asarray(target[i])).long().to(device)\n",
    "\n",
    "        optimizer.zero_grad()\n",
    "        outputs = model(x)\n",
    "        loss = criterion(outputs, y)\n",
    "        total_loss += loss\n",
    "        loss.backward()\n",
    "        optimizer.step()\n",
    "        \n",
    "    if epoch % 20 == 0:    \n",
    "        print(\"loss on epoch %i: %f\" % (epoch, total_loss))"
   ]
  },
  {
   "cell_type": "markdown",
   "id": "87e0867a",
   "metadata": {
    "id": "HOthB5MD9ruv"
   },
   "source": [
    "### 1.2.4: Visualizing SkipGram embeddings [No Points]\n",
    "Run the below cells to visualize SkipGram embeddings."
   ]
  },
  {
   "cell_type": "code",
   "execution_count": 16,
   "id": "12530833",
   "metadata": {
    "colab": {
     "base_uri": "https://localhost:8080/",
     "height": 17
    },
    "id": "MW64QQ4n83vK",
    "outputId": "acb32f8c-6dde-4277-c519-fa9a1977c548"
   },
   "outputs": [],
   "source": [
    "###############################\n",
    "### DO NOT CHANGE THIS CELL ###\n",
    "###############################\n",
    "\n",
    "# embedding from first model layer\n",
    "embeddings = list(model.parameters())[0]\n",
    "embeddings = embeddings.cpu().detach().numpy()\n",
    "\n",
    "# normalization\n",
    "norms = (embeddings ** 2).sum(axis=1) ** (1 / 2)\n",
    "norms = np.reshape(norms, (len(norms), 1))\n",
    "embeddings_norm = embeddings / norms"
   ]
  },
  {
   "cell_type": "markdown",
   "id": "8eff41cd",
   "metadata": {},
   "source": [
    "Here, we use truncated SVD to project the learned word2vec embedding to 2D space for visualization. Feel free to tune the learning rate in the training part for different results."
   ]
  },
  {
   "cell_type": "code",
   "execution_count": 17,
   "id": "33dc3ff5",
   "metadata": {
    "colab": {
     "base_uri": "https://localhost:8080/",
     "height": 265
    },
    "id": "iLhTgwE183xt",
    "outputId": "832755ed-5da8-47b4-eb4a-41d15f938d65"
   },
   "outputs": [
    {
     "data": {
      "image/png": "[encoded data removed]",
      "text/plain": [
       "<Figure size 640x480 with 1 Axes>"
      ]
     },
     "metadata": {},
     "output_type": "display_data"
    }
   ],
   "source": [
    "###############################\n",
    "### DO NOT CHANGE THIS CELL ###\n",
    "###############################\n",
    "\n",
    "from sklearn import decomposition\n",
    "\n",
    "w2v.word2idx[''] = 0\n",
    "svd = decomposition.TruncatedSVD(n_components=2)\n",
    "W2_dec = svd.fit_transform(embeddings)\n",
    "\n",
    "x = W2_dec[:,0]\n",
    "y = W2_dec[:,1]\n",
    "plot = sns.scatterplot(x=x, y=y)\n",
    "\n",
    "for i in range(0,W2_dec.shape[0]):\n",
    "     plot.text(x[i], y[i]+2e-2, list(w2v.word2idx)[i], horizontalalignment='center', size='small', color='black', weight='semibold');"
   ]
  },
  {
   "cell_type": "markdown",
   "id": "da52f24e",
   "metadata": {},
   "source": [
    "Here, we will look into the learned property of the word2vec embedding. Warsaw is the capital of Poland and we now calculate the difference between embeddings of \"warsaw\" and \"poland\". After that, we add the difference to the embedding of \"paris\". We then rank the dot product of the computed embedding vs all the embeddings. Notice that the larger this value, the more similar two embeddings are. Feel free to play with different word pairs."
   ]
  },
  {
   "cell_type": "code",
   "execution_count": 18,
   "id": "2ea212b8",
   "metadata": {
    "colab": {
     "base_uri": "https://localhost:8080/",
     "height": 106
    },
    "id": "6Opu7Awy979w",
    "outputId": "058539e5-171d-4c34-b086-5a283fc82684"
   },
   "outputs": [
    {
     "name": "stdout",
     "output_type": "stream",
     "text": [
      "poland: 0.678\n",
      "paris: 0.584\n",
      "germany: 0.411\n",
      "france: 0.367\n",
      "berlin: 0.185\n"
     ]
    }
   ],
   "source": [
    "emb1 = embeddings[w2v.word2idx[\"poland\"]]\n",
    "emb2 = embeddings[w2v.word2idx[\"warsaw\"]]\n",
    "emb3 = embeddings[w2v.word2idx[\"paris\"]]\n",
    "\n",
    "emb4 = emb1 - emb2 + emb3\n",
    "emb4_norm = (emb4 ** 2).sum() ** (1 / 2)\n",
    "emb4 = emb4 / emb4_norm\n",
    "\n",
    "emb4 = np.reshape(emb4, (len(emb4), 1))\n",
    "dists = np.matmul(embeddings_norm, emb4).flatten()\n",
    "\n",
    "top5 = np.argsort(-dists)[:5]\n",
    "\n",
    "for word_id in top5:\n",
    "    print(\"{}: {:.3f}\".format(w2v.idx2word[word_id], dists[word_id]))"
   ]
  },
  {
   "cell_type": "markdown",
   "id": "ad08f83d",
   "metadata": {
    "id": "DqJwpMAYUg4A"
   },
   "source": [
    "Ideally with large amount of data, we should have got france as the most nearest word. But depending on the implementation and amount of data, it can vary."
   ]
  },
  {
   "cell_type": "markdown",
   "id": "64882a2d",
   "metadata": {
    "id": "dRvybL9rYxcQ"
   },
   "source": [
    "## Q2: Classification with CNN [15pts]\n",
    "\n",
    "Convolutional layers are used to find patterns by sliding a small kernel window over the input. In computer vision applications, the kernel window slides through and gets multiplied by small regions in an image. In the context of NLP, the kernel slides through and gets multiplied by the embedding vectors of a few words as specified by window size. For looking at sequences of word embeddings, the window has to look at multiple word embeddings in a sequence. The kernel will be rectangular with size window_size x embedding_size. For example, if window size is 3 then the kernel size will be 3 x 500. This essentially represents n-grams in the model. The kernel weights (filter) are multiplied to word embeddings in pairs and summed up to get output values. As the network is being learned, these kernel weights are also being learned.\n",
    "\n",
    "We will be implementing a convolutional neural network with a pre-trained word2vec model for classification similar to the CNN-rand baseline described by [Kim (2014)](https://aclanthology.org/D14-1181.pdf). Although our model differs from the paper, it may still be helpful to review the model section of the paper to get a general overview of the architecture. We will use a pre-trained word2vec model for feasibility of finding the appropriate embeddings. The architecture of our model looks like:\n",
    "\n",
    "<p align=\"center\"><img src=\"https://cezannec.github.io/assets/cnn_text/complete_text_classification_CNN.png\" width=\"75%\" align=\"center\"></p>\n",
    "\n",
    "We will be using an embedding layer loaded with a word2vec model, followed by convolution layers, and then a linear layer.\n",
    "\n",
    "We will be using the Clickbait and Web of Science dataset for this task."
   ]
  },
  {
   "cell_type": "markdown",
   "id": "9365467c",
   "metadata": {
    "id": "5hBTTf_0bDWd"
   },
   "source": [
    "## 2.1: Implementing CNN Classifier [10pts]\n",
    "In the **cnn.py** file complete the following functions:\n",
    "  * <strong>\\_\\_init__</strong>\n",
    "  * <strong>forward_embed</strong>\n",
    "  * <strong>forward_convs</strong>\n",
    "  * <strong>forward</strong>\n",
    "  \n",
    "We have included local tests in 2.1.3 for you to test your implementation of the CNN functions."
   ]
  },
  {
   "cell_type": "markdown",
   "id": "00cd89ef",
   "metadata": {
    "id": "BlQWYkt6bjPM"
   },
   "source": [
    "### 2.1.1: Pre-Processing Data [No Points]\n",
    "\n",
    "Run the below cell to preprocess the data."
   ]
  },
  {
   "cell_type": "code",
   "execution_count": 19,
   "id": "ea19c2a3",
   "metadata": {
    "colab": {
     "base_uri": "https://localhost:8080/",
     "height": 17
    },
    "id": "QtXq7iy3bwrs",
    "outputId": "e4849779-987a-4a07-d1bb-c4cb867814bc"
   },
   "outputs": [],
   "source": [
    "###############################\n",
    "### DO NOT CHANGE THIS CELL ###\n",
    "###############################\n",
    "\n",
    "from gensim.utils import simple_preprocess\n",
    "\n",
    "def preprocess(data):\n",
    "    preprocessed_data = []\n",
    "    for text in data:\n",
    "        tokens = simple_preprocess(text, deacc=True)\n",
    "        preprocessed_data.append(tokens)\n",
    "    return preprocessed_data\n",
    "\n",
    "preprocessed_x_train = preprocess(x_train)\n",
    "preprocessed_x_train_wos = preprocess(x_train_wos)\n",
    "\n",
    "preprocessed_x_test = preprocess(x_test)\n",
    "preprocessed_x_test_wos = preprocess(x_test_wos)"
   ]
  },
  {
   "cell_type": "code",
   "execution_count": 20,
   "id": "4dcf1840",
   "metadata": {
    "colab": {
     "base_uri": "https://localhost:8080/",
     "height": 53
    },
    "id": "_M0alpCXcN3N",
    "outputId": "6ffd3641-ff5e-4366-958d-f18399a31bd7"
   },
   "outputs": [
    {
     "name": "stdout",
     "output_type": "stream",
     "text": [
      "Device available for running: \n",
      "cpu\n"
     ]
    }
   ],
   "source": [
    "###############################\n",
    "### DO NOT CHANGE THIS CELL ###\n",
    "###############################\n",
    "\n",
    "# Use cuda if present\n",
    "device = torch.device(\"cuda\" if torch.cuda.is_available() else \"cpu\")\n",
    "print(\"Device available for running: \")\n",
    "print(device)"
   ]
  },
  {
   "cell_type": "markdown",
   "id": "d9f84828",
   "metadata": {
    "id": "vOr_wpjNdGnj"
   },
   "source": [
    "### 2.1.2: Utility functions for training Word2Vec Model [No Points]\n",
    "\n",
    "Run the below cells for making word2vec model, vectors and target."
   ]
  },
  {
   "cell_type": "code",
   "execution_count": 21,
   "id": "8cd10d38",
   "metadata": {
    "colab": {
     "base_uri": "https://localhost:8080/",
     "height": 17
    },
    "id": "3gjLdwNOdOYd",
    "outputId": "2315178e-7fd3-42bd-c555-8af5915f7976"
   },
   "outputs": [],
   "source": [
    "###############################\n",
    "### DO NOT CHANGE THIS CELL ###\n",
    "###############################\n",
    "\n",
    "from gensim.parsing.porter import PorterStemmer\n",
    "from gensim.models import Word2Vec\n",
    "\n",
    "porter_stemmer = PorterStemmer()\n",
    "\n",
    "size = 500\n",
    "window = 3\n",
    "min_count = 1\n",
    "workers = 3\n",
    "sg = 1\n",
    "\n",
    "# Function to train word2vec model\n",
    "def make_word2vec_model(data, padding=True, sg=1, min_count=1, size=500, workers=3, window=3):\n",
    "    data.append(['pad'])\n",
    "    w2v_model = Word2Vec(data, min_count = min_count, size = size, workers = workers, window = window, sg = sg)\n",
    "    return w2v_model"
   ]
  },
  {
   "cell_type": "code",
   "execution_count": 22,
   "id": "b0c69923",
   "metadata": {
    "colab": {
     "base_uri": "https://localhost:8080/",
     "height": 17
    },
    "id": "DTUjqQnjdOUz",
    "outputId": "11051581-803c-477e-9788-af3d12a9e201"
   },
   "outputs": [],
   "source": [
    "###############################\n",
    "### DO NOT CHANGE THIS CELL ###\n",
    "###############################\n",
    "\n",
    "def make_word2vec_vector(sentence):\n",
    "    padded_X = [padding_idx for i in range(max_sen_len)]\n",
    "    i = 0\n",
    "    for word in sentence:\n",
    "        if word not in w2vmodel.wv.vocab:\n",
    "            padded_X[i] = 0\n",
    "        else:\n",
    "            padded_X[i] = w2vmodel.wv.vocab[word].index\n",
    "        i += 1\n",
    "    return torch.tensor(padded_X, dtype=torch.long, device=device).view(1, -1)"
   ]
  },
  {
   "cell_type": "code",
   "execution_count": 23,
   "id": "c27ba2a9",
   "metadata": {
    "colab": {
     "base_uri": "https://localhost:8080/",
     "height": 17
    },
    "id": "PrOTzz5gddgj",
    "outputId": "70681d17-e12c-44bd-8be2-fd7be0c7b8c9"
   },
   "outputs": [],
   "source": [
    "###############################\n",
    "### DO NOT CHANGE THIS CELL ###\n",
    "###############################\n",
    "\n",
    "def make_target(label):\n",
    "    return torch.tensor([label], dtype=torch.long, device=device)"
   ]
  },
  {
   "cell_type": "markdown",
   "id": "07d136a5",
   "metadata": {},
   "source": [
    "### 2.1.3: Local Tests for CNN Functions [No Points]\n",
    "You may test your implementation of the functions contained in **cnn.py** in the cell below. Feel free to comment out tests for functions that have not been completed yet. See [Using the Local Tests](#using_local_tests) for more details."
   ]
  },
  {
   "cell_type": "code",
   "execution_count": 24,
   "id": "7ce03e58",
   "metadata": {},
   "outputs": [
    {
     "name": "stdout",
     "output_type": "stream",
     "text": [
      "Local Tests for CNN Implementation \n",
      "\n",
      "Your forward_embed works as expected: True\n",
      "Your forward_convs works as expected: True\n",
      "Your forward works as expected: True\n"
     ]
    }
   ],
   "source": [
    "###############################\n",
    "### DO NOT CHANGE THIS CELL ###\n",
    "###############################\n",
    "\n",
    "from cnn import CNN\n",
    "from local_tests.cnn_test import CNN_Test\n",
    "torch.manual_seed(10)\n",
    "local_test = CNN_Test()\n",
    "\n",
    "# creating the local test dataset for CNN\n",
    "local_test_dataset = local_test.input_sequences\n",
    "preprocessed_x_local_test = preprocess(local_test_dataset)\n",
    "\n",
    "w2vmodel_test = make_word2vec_model(preprocessed_x_local_test, padding=True, sg=sg, min_count=min_count, size=size, workers=workers, window=window)\n",
    "cnn_model = CNN(w2vmodel_test, num_classes=2, window_sizes=(1,2,3,5))\n",
    "cnn_model.load_state_dict(torch.load('./local_tests/basic_cnn_model.pt'))    # upload default weights. If this errors out, make sure you have initialized the layers correctly.\n",
    "cnn_model.eval()\n",
    "\n",
    "max_sen_len = max(map(len, preprocessed_x_local_test))\n",
    "padding_idx = w2vmodel_test.wv.vocab['pad'].index\n",
    "def make_word2vec_vector_test(sentence):\n",
    "    padded_X = [padding_idx for i in range(max_sen_len)]\n",
    "    i = 0\n",
    "    for word in sentence:\n",
    "        if word not in w2vmodel_test.wv.vocab:\n",
    "            padded_X[i] = 0\n",
    "        else:\n",
    "            padded_X[i] = w2vmodel_test.wv.vocab[word].index\n",
    "        i += 1\n",
    "    return torch.tensor(padded_X, dtype=torch.long, device=device).view(1, -1)\n",
    "x_local_test = make_word2vec_vector_test(preprocessed_x_local_test[0])\n",
    "\n",
    "print('Local Tests for CNN Implementation \\n')\n",
    "\n",
    "# Local test for forward_embed\n",
    "embeddings = cnn_model.forward_embed(x_local_test)\n",
    "forward_embed_test = (embeddings.shape == local_test.embeddings.shape) and (torch.allclose(embeddings, local_test.embeddings, rtol=0.0001, atol=0.0001))\n",
    "print('Your forward_embed works as expected:', forward_embed_test)\n",
    "\n",
    "# Local test for forward_rnn\n",
    "convs_output = cnn_model.forward_convs(local_test.embeddings)\n",
    "forward_convs_test = (convs_output.shape == local_test.convs_output.shape) and (torch.allclose(convs_output, local_test.convs_output, rtol=0.0001, atol=0.0001))\n",
    "print('Your forward_convs works as expected:', forward_convs_test)\n",
    "\n",
    "# Local test for forward\n",
    "cnn_forward_output = cnn_model.forward(x_local_test)\n",
    "forward_test = (cnn_forward_output.shape == local_test.output.shape) and (torch.allclose(cnn_forward_output, local_test.output, rtol=0.0001, atol=0.0001))\n",
    "print('Your forward works as expected:', forward_test)\n"
   ]
  },
  {
   "cell_type": "markdown",
   "id": "3d6f0d97",
   "metadata": {
    "id": "fXuJ6ouncC8Z"
   },
   "source": [
    "## 2.2: Classifying Clickbait Dataset using CNN [No Points]\n",
    "\n",
    "Run the below cell to classify the Clickbait train and test dataset using the CNN functions that you have already implemented in 2."
   ]
  },
  {
   "cell_type": "code",
   "execution_count": 25,
   "id": "bbd9501c",
   "metadata": {
    "colab": {
     "base_uri": "https://localhost:8080/",
     "height": 17
    },
    "id": "lurnaUoUXCcU",
    "outputId": "dece0006-ceab-4123-cb16-7e728f2e6f3c"
   },
   "outputs": [],
   "source": [
    "###############################\n",
    "### DO NOT CHANGE THIS CELL ###\n",
    "###############################\n",
    "\n",
    "# Train Word2vec model\n",
    "w2vmodel = make_word2vec_model(preprocessed_x_train, padding=True, sg=sg, min_count=min_count, size=size, workers=workers, window=window)"
   ]
  },
  {
   "cell_type": "markdown",
   "id": "c803c25f",
   "metadata": {},
   "source": [
    "Because CNN requires the input data to be of the same length. We use the embedding of the \"pad\" word as the padding vector. Notice that this choice is just a convention and other tokens could also work for this purpose. In more complex language model, there will be a dedicated '\\<pad\\>' token for padding."
   ]
  },
  {
   "cell_type": "code",
   "execution_count": 26,
   "id": "857fcd53",
   "metadata": {
    "colab": {
     "base_uri": "https://localhost:8080/",
     "height": 17
    },
    "id": "MnRN7kn7XCe6",
    "outputId": "39df6412-550c-4e4c-c892-3473877470da"
   },
   "outputs": [],
   "source": [
    "###############################\n",
    "### DO NOT CHANGE THIS CELL ###\n",
    "###############################\n",
    "\n",
    "max_sen_len = max(map(len, preprocessed_x_train))\n",
    "padding_idx = w2vmodel.wv.vocab['pad'].index"
   ]
  },
  {
   "cell_type": "code",
   "execution_count": 27,
   "id": "f97009ba",
   "metadata": {
    "colab": {
     "base_uri": "https://localhost:8080/",
     "height": 106
    },
    "id": "zIdO6zAsUMGV",
    "outputId": "d7cce669-26ac-45cc-e11c-827cfd122925"
   },
   "outputs": [
    {
     "name": "stdout",
     "output_type": "stream",
     "text": [
      "loss on epoch 0: 2047.153170\n",
      "loss on epoch 1: 593.233521\n",
      "loss on epoch 2: 323.882608\n",
      "loss on epoch 3: 182.274941\n",
      "loss on epoch 4: 125.219637\n"
     ]
    }
   ],
   "source": [
    "###############################\n",
    "### DO NOT CHANGE THIS CELL ###\n",
    "###############################\n",
    "\n",
    "from cnn import CNN\n",
    "\n",
    "NUM_CLASSES = 2\n",
    "\n",
    "model = CNN(w2vmodel, num_classes=NUM_CLASSES)\n",
    "model.to(device)\n",
    "criterion = nn.CrossEntropyLoss()\n",
    "optimizer = optim.Adam(model.parameters(), lr=0.001)\n",
    "N_EPOCHS = 5\n",
    "\n",
    "model.train()\n",
    "for epoch in range(N_EPOCHS):\n",
    "    total_loss = 0.0\n",
    "    shuffled_i = list(range(0,len(y_train)))\n",
    "    random.shuffle(shuffled_i)\n",
    "\n",
    "    for index in range(len(shuffled_i)):\n",
    "        model.zero_grad()\n",
    "        bow_vec = make_word2vec_vector(preprocessed_x_train[index])\n",
    "        outputs = model(bow_vec)\n",
    "        y = make_target(y_train[index])\n",
    "\n",
    "        loss = criterion(outputs, y)\n",
    "        total_loss += loss.item()\n",
    "\n",
    "        loss.backward()\n",
    "        optimizer.step()\n",
    "\n",
    "\n",
    "    print(\"loss on epoch %i: %f\" % (epoch, total_loss))"
   ]
  },
  {
   "cell_type": "code",
   "execution_count": 28,
   "id": "a4a2ef98",
   "metadata": {
    "colab": {
     "base_uri": "https://localhost:8080/",
     "height": 35
    },
    "id": "aOiTWeR6VDXk",
    "outputId": "b02e1d0d-5194-4b47-faec-cdba1a3b330f"
   },
   "outputs": [
    {
     "name": "stdout",
     "output_type": "stream",
     "text": [
      "Test Accuracy on Clickbait Dataset using CNN : 0.972\n"
     ]
    }
   ],
   "source": [
    "###############################\n",
    "### DO NOT CHANGE THIS CELL ###\n",
    "###############################\n",
    "\n",
    "from sklearn.metrics import accuracy_score\n",
    "cnn_predictions = []\n",
    "original_lables_cnn = []\n",
    "model.eval()\n",
    "\n",
    "with torch.no_grad():\n",
    "    for index in range(len(y_test)):\n",
    "        bow_vec = make_word2vec_vector(preprocessed_x_test[index])\n",
    "        probs = model(bow_vec)\n",
    "        _, predicted = torch.max(probs.data, 1)\n",
    "        cnn_predictions.append(predicted.cpu().numpy()[0])\n",
    "        t = make_target(y_test[index]).cpu().numpy()[0]\n",
    "        original_lables_cnn.append(make_target(y_test[index]).cpu().numpy()[0])\n",
    "\n",
    "print(\"Test Accuracy on Clickbait Dataset using CNN : {:.3f}\".format(accuracy_score(original_lables_cnn, cnn_predictions)))"
   ]
  },
  {
   "cell_type": "markdown",
   "id": "acea61ff",
   "metadata": {
    "id": "lRXO38UrmQ18"
   },
   "source": [
    "## 2.3: Classifying Web of Science Dataset using CNN [5pts]\n",
    "\n",
    "Run the below cell to classify the WoS train and test dataset using the CNN functions that you have already implemented in 2.\n",
    "\n",
    "**You must reach an accuracy of >= 50% to receive credit for this section.**"
   ]
  },
  {
   "cell_type": "code",
   "execution_count": 29,
   "id": "525cdaee",
   "metadata": {
    "colab": {
     "base_uri": "https://localhost:8080/",
     "height": 17
    },
    "id": "XUyZvrX3mWXj",
    "outputId": "90050d4c-c393-483d-c76d-d7cc475e3ce7"
   },
   "outputs": [],
   "source": [
    "###############################\n",
    "### DO NOT CHANGE THIS CELL ###\n",
    "###############################\n",
    "\n",
    "# Train Word2vec model\n",
    "w2vmodel = make_word2vec_model(preprocessed_x_train_wos, padding=True, sg=sg, min_count=min_count, size=size, workers=workers, window=window)"
   ]
  },
  {
   "cell_type": "code",
   "execution_count": 30,
   "id": "72f6f795",
   "metadata": {
    "colab": {
     "base_uri": "https://localhost:8080/",
     "height": 17
    },
    "id": "dP07m73fRM44",
    "outputId": "28f17390-69d5-4178-f8ec-9a51ae9dbaa6"
   },
   "outputs": [],
   "source": [
    "###############################\n",
    "### DO NOT CHANGE THIS CELL ###\n",
    "###############################\n",
    "load_pt = False\n",
    "max_sen_len = max(map(len, preprocessed_x_train_wos))\n",
    "padding_idx = w2vmodel.wv.vocab['pad'].index\n",
    "\n",
    "# Uncomment for use if there is a discrepancy in testing accuracy between notebook and gradescope\n",
    "# load_pt = True\n",
    "# train_dataset = torch.load('./data/cnn_train_dataset_wos.pt')\n",
    "# test_dataset = torch.load('./data/cnn_test_dataset_wos.pt')"
   ]
  },
  {
   "cell_type": "code",
   "execution_count": 31,
   "id": "7babbff9",
   "metadata": {
    "colab": {
     "base_uri": "https://localhost:8080/",
     "height": 88
    },
    "id": "HZPVaPsvmoDR",
    "outputId": "21294fa2-48a5-455e-c7fa-fd8d5d9c602f"
   },
   "outputs": [
    {
     "name": "stdout",
     "output_type": "stream",
     "text": [
      "loss on epoch 0: 1425.376364\n",
      "loss on epoch 5: 0.920994\n",
      "loss on epoch 10: 0.015240\n",
      "loss on epoch 15: 0.000268\n"
     ]
    }
   ],
   "source": [
    "###############################\n",
    "### DO NOT CHANGE THIS CELL ###\n",
    "###############################\n",
    "\n",
    "from cnn import CNN\n",
    "\n",
    "NUM_CLASSES = 4\n",
    "\n",
    "model = CNN(w2vmodel, num_classes=NUM_CLASSES)\n",
    "model.to(device)\n",
    "criterion = nn.CrossEntropyLoss()\n",
    "optimizer = optim.Adam(model.parameters(), lr=0.001)\n",
    "N_EPOCHS = 20\n",
    "\n",
    "model.train()\n",
    "for epoch in range(N_EPOCHS):\n",
    "    total_loss = 0.0\n",
    "    shuffled_i = list(range(0,len(y_train_wos)))\n",
    "    random.shuffle(shuffled_i)\n",
    "\n",
    "    for index in range(len(shuffled_i)):\n",
    "        model.zero_grad()\n",
    "        bow_vec = make_word2vec_vector(preprocessed_x_train_wos[index]) if not load_pt else train_dataset[index][0].unsqueeze(0)\n",
    "        outputs = model(bow_vec)\n",
    "        y = make_target(y_train_wos[index] if not load_pt else train_dataset[index][1])\n",
    "        \n",
    "        loss = criterion(outputs, y)\n",
    "        total_loss += loss.item()\n",
    "\n",
    "        loss.backward()\n",
    "        optimizer.step()\n",
    "\n",
    "\n",
    "    if epoch % 5 == 0:    \n",
    "        print(\"loss on epoch %i: %f\" % (epoch, total_loss))"
   ]
  },
  {
   "cell_type": "code",
   "execution_count": 32,
   "id": "4b0e4d3e",
   "metadata": {
    "colab": {
     "base_uri": "https://localhost:8080/",
     "height": 35
    },
    "id": "E3bSg3HCYnIS",
    "outputId": "e47cc8c4-3846-46bc-f7b2-7120947e8263"
   },
   "outputs": [
    {
     "name": "stdout",
     "output_type": "stream",
     "text": [
      "Test Accuracy on WoS Dataset using CNN : 0.800\n"
     ]
    }
   ],
   "source": [
    "###############################\n",
    "### DO NOT CHANGE THIS CELL ###\n",
    "###############################\n",
    "\n",
    "from sklearn.metrics import accuracy_score\n",
    "cnn_predictions = []\n",
    "original_lables_cnn = []\n",
    "model.eval()\n",
    "\n",
    "with torch.no_grad():\n",
    "    for index in range(len(y_test_wos)):\n",
    "        bow_vec = make_word2vec_vector(preprocessed_x_test_wos[index]) if not load_pt else test_dataset[index][0].unsqueeze(0)\n",
    "        probs = model(bow_vec)\n",
    "        _, predicted = torch.max(probs.data, 1)\n",
    "        cnn_predictions.append(predicted.cpu().numpy()[0])\n",
    "        t = make_target(y_test_wos[index] if not load_pt else train_dataset[index][1]).cpu().numpy()[0] \n",
    "        original_lables_cnn.append(t)\n",
    "\n",
    "print(\"Test Accuracy on WoS Dataset using CNN : {:.3f}\".format(accuracy_score(original_lables_cnn, cnn_predictions)))"
   ]
  },
  {
   "cell_type": "markdown",
   "id": "171c01b7",
   "metadata": {
    "id": "px4Og3agxxkY"
   },
   "source": [
    "### 🐥 <font color='darkred'>Submit these files to Gradescope</font><a id='find_chicken'></a>\n",
    "**Run the cell below to save the state of your model. You will be required to upload `best_cnn_model.pt` and the `cnn.py` file to Gradescope for accuracy evaluation. You must reach an accuracy of >= 50% on the above test dataset to receive credit for this section.**"
   ]
  },
  {
   "cell_type": "code",
   "execution_count": 33,
   "id": "86a318d3",
   "metadata": {
    "colab": {
     "base_uri": "https://localhost:8080/",
     "height": 17
    },
    "id": "XwwCsXxux2nS",
    "outputId": "7b88e6a6-9122-4ed7-a223-c7892856f9b7"
   },
   "outputs": [],
   "source": [
    "###############################\n",
    "### DO NOT CHANGE THIS CELL ###\n",
    "###############################\n",
    "\n",
    "torch.save(model.state_dict(), 'best_cnn_model.pt')"
   ]
  },
  {
   "cell_type": "markdown",
   "id": "8f1fc62e",
   "metadata": {
    "id": "hJaO3vd_oP-Z"
   },
   "source": [
    "## Q3: Classification with RNN [15pts]\n",
    "\n",
    "In this section we will be using recurrent neural networks for classification. Below is a diagram of our model architecture, note how the hidden state of the last word in the forward direction and the hidden state of the first word in the reverse direction are both fed into the dense linear layer.\n",
    "\n",
    "<p align=\"center\"><img src=\"https://www.tensorflow.org/static/text/tutorials/images/bidirectional.png\" width=\"75%\" align=\"center\"></p>\n",
    "\n",
    "We will be using an embedding layer, followed by a bi-directional RNN layer, and then a linear layer.\n",
    "\n",
    "We will use the Clickbait and Web of Science dataset for this task."
   ]
  },
  {
   "cell_type": "markdown",
   "id": "91f6fd74",
   "metadata": {
    "id": "alo7oi32yrwp"
   },
   "source": [
    "## 3.1: Implementing RNN Classifier [10pts]\n",
    "In the **rnn.py** file complete the following functions:\n",
    "  * <strong>\\_\\_init__</strong>\n",
    "  * <strong>forward_embed</strong>\n",
    "  * <strong>forward_rnn</strong>\n",
    "  * <strong>forward_concat</strong>\n",
    "  * <strong>forward</strong>\n",
    "\n",
    "We have included local tests in 3.2.2 for you to test your implementation of the RNN functions."
   ]
  },
  {
   "cell_type": "markdown",
   "id": "1cd44755",
   "metadata": {
    "id": "Aajl3628zAkp"
   },
   "source": [
    "### 3.1.1: Pre-Processing Data [No Points]\n",
    "\n",
    "Run the below cells to load functions for building vocabulary and tokenizing the sentences."
   ]
  },
  {
   "cell_type": "code",
   "execution_count": 20,
   "id": "7d9fe570",
   "metadata": {
    "colab": {
     "base_uri": "https://localhost:8080/",
     "height": 17
    },
    "id": "8qk1qpnIzCwe",
    "outputId": "5f75fc50-8aaa-4a09-dc2e-f78bcc8ed8d3"
   },
   "outputs": [],
   "source": [
    "###############################\n",
    "### DO NOT CHANGE THIS CELL ###\n",
    "###############################\n",
    "\n",
    "from torchtext.data import get_tokenizer\n",
    "from torchtext.vocab import build_vocab_from_iterator\n",
    "\n",
    "tokenizer = get_tokenizer(\"basic_english\")\n",
    "\n",
    "def build_vocabulary(datasets):\n",
    "    for dataset in datasets:\n",
    "        for text in dataset:\n",
    "            yield tokenizer(text)\n",
    "\n",
    "vocab = build_vocab_from_iterator(build_vocabulary([x_train]), min_freq=1, specials=[\"<UNK>\"])\n",
    "vocab.set_default_index(vocab[\"<UNK>\"])\n",
    "\n",
    "vocab_wos = build_vocab_from_iterator(build_vocabulary([x_train_wos]), min_freq=1, specials=[\"<UNK>\"])\n",
    "vocab_wos.set_default_index(vocab[\"<UNK>\"])"
   ]
  },
  {
   "cell_type": "markdown",
   "id": "144337fd",
   "metadata": {},
   "source": [
    "## 3.2: Classifying Clickbait Dataset using RNN [5pts]\n",
    "\n",
    "Run the cells below to classify the Clickbait train and test dataset using the RNN functions that you have implemented. \n",
    "\n",
    "**You must reach an accuracy of >= 85% to receive credit for this section.**"
   ]
  },
  {
   "cell_type": "markdown",
   "id": "c23f48a4",
   "metadata": {},
   "source": [
    "### 3.2.1 : Create the Dataloaders [No Points]"
   ]
  },
  {
   "cell_type": "code",
   "execution_count": 35,
   "id": "58fcc478",
   "metadata": {},
   "outputs": [],
   "source": [
    "###############################\n",
    "### DO NOT CHANGE THIS CELL ###\n",
    "###############################\n",
    "\n",
    "from torch.utils.data import DataLoader\n",
    "\n",
    "max_words = 0\n",
    "for t in x_train:\n",
    "    max_words = max(max_words, len(vocab(tokenizer(t))))\n",
    "\n",
    "def vectorize_batch(batch):\n",
    "    Y, X = list(zip(*batch))\n",
    "    X = [vocab(tokenizer(text)) for text in X] ## Tokenize and map tokens to indexes\n",
    "    X_len = [len(text) for text in X]\n",
    "    X = [tokens+([0]* (max_words-len(tokens))) if len(tokens)<max_words else tokens[:max_words] for tokens in X] ## Bringing all samples to max_words length.\n",
    "    return torch.tensor(X, dtype=torch.int32), torch.tensor(X_len), torch.tensor(Y)"
   ]
  },
  {
   "cell_type": "code",
   "execution_count": 36,
   "id": "644a3a41",
   "metadata": {},
   "outputs": [],
   "source": [
    "###############################\n",
    "### DO NOT CHANGE THIS CELL ###\n",
    "###############################\n",
    "\n",
    "train_dataset = list(map(lambda y, x: (y, x), y_train, x_train))\n",
    "test_dataset = list(map(lambda y, x: (y, x), y_test, x_test))\n",
    "\n",
    "# Uncomment for use if there is a discrepancy in testing accuracy between notebook and gradescope\n",
    "# train_dataset = torch.load('./data/rnn_train_dataset_cb.pt')\n",
    "# test_dataset = torch.load('./data/rnn_test_dataset_cb.pt')\n",
    "\n",
    "train_loader = DataLoader(train_dataset, batch_size=1024, collate_fn=vectorize_batch, shuffle=True)\n",
    "test_loader  = DataLoader(test_dataset, batch_size=1024, collate_fn=vectorize_batch)"
   ]
  },
  {
   "cell_type": "markdown",
   "id": "15966713",
   "metadata": {},
   "source": [
    "### 3.2.2: Local Tests for RNN Functions [No Points]\n",
    "You may test your implementation of the functions contained in **rnn.py** in the cell below. Feel free to comment out tests for functions that have not been completed yet. See [Using the Local Tests](#using_local_tests) for more details."
   ]
  },
  {
   "cell_type": "code",
   "execution_count": 37,
   "id": "2ad9adb6",
   "metadata": {},
   "outputs": [
    {
     "name": "stdout",
     "output_type": "stream",
     "text": [
      "Local Tests for RNN Implementation \n",
      "\n",
      "Your forward_embed works as expected: True\n",
      "Your forward_rnn works as expected: True\n",
      "Your forward_concat works as expected: True\n",
      "Your forward works as expected: True\n"
     ]
    }
   ],
   "source": [
    "###############################\n",
    "### DO NOT CHANGE THIS CELL ###\n",
    "###############################\n",
    "\n",
    "from rnn import RNN\n",
    "from local_tests.rnn_test import RNN_Test\n",
    "torch.manual_seed(10)\n",
    "\n",
    "local_test = RNN_Test()\n",
    "rnn_model = RNN(vocab, num_classes=2)\n",
    "rnn_model.load_state_dict(torch.load('./local_tests/basic_rnn_model.pt'))    # upload default weights. If this errors out, make sure you have initialized the layers correctly.\n",
    "rnn_model.eval()\n",
    "\n",
    "# creating a vectorized batch from the sample datapoints\n",
    "local_test_dataset = list(map(lambda y, x: (y, x), local_test.output_labels, local_test.input_sequences))\n",
    "X_localtest, X_len_localtest, Y_localtest = vectorize_batch(local_test_dataset)\n",
    "\n",
    "print('Local Tests for RNN Implementation \\n')\n",
    "\n",
    "# Local test for forward_embed\n",
    "embeddings = rnn_model.forward_embed(X_localtest)\n",
    "forward_embed_test = (embeddings.shape == local_test.embeddings.shape) and (torch.allclose(embeddings, local_test.embeddings, rtol=0.0001, atol=0.0001))\n",
    "print('Your forward_embed works as expected:', forward_embed_test)\n",
    "\n",
    "# Local test for forward_rnn\n",
    "rnn_output = rnn_model.forward_rnn(local_test.embeddings, X_len_localtest)\n",
    "forward_rnn_test = (rnn_output.shape == local_test.rnn_output.shape) and (torch.allclose(rnn_output, local_test.rnn_output, rtol=0.0001, atol=0.0001))\n",
    "print('Your forward_rnn works as expected:', forward_rnn_test)\n",
    "\n",
    "# Local test for forward_concat\n",
    "concat = rnn_model.forward_concat(local_test.rnn_output, X_len_localtest)\n",
    "forward_concat_test = (concat.shape == local_test.concat.shape) and (torch.allclose(concat, local_test.concat))\n",
    "print('Your forward_concat works as expected:', forward_concat_test)\n",
    "\n",
    "# Local test for forward\n",
    "output = rnn_model.forward(X_localtest, X_len_localtest)\n",
    "forward_test = (output.shape == local_test.output.shape) and (torch.allclose(output, local_test.output, rtol=0.0001, atol=0.0001))\n",
    "print('Your forward works as expected:', forward_test)"
   ]
  },
  {
   "cell_type": "markdown",
   "id": "f7f7c026",
   "metadata": {},
   "source": [
    "### 3.2.3: Train and Evaluate on the Clickbait Dataset [5pts]\n",
    "\n",
    "**You must reach an accuracy of >= 85% to receive credit for this section.**"
   ]
  },
  {
   "cell_type": "code",
   "execution_count": 38,
   "id": "8bfe6394",
   "metadata": {},
   "outputs": [
    {
     "name": "stdout",
     "output_type": "stream",
     "text": [
      "Device available for running: cpu\n"
     ]
    }
   ],
   "source": [
    "device = torch.device(\"cuda\" if torch.cuda.is_available() else \"cpu\")\n",
    "print(\"Device available for running:\", device)"
   ]
  },
  {
   "cell_type": "code",
   "execution_count": 39,
   "id": "9bdbbf65",
   "metadata": {
    "colab": {
     "base_uri": "https://localhost:8080/",
     "height": 196
    },
    "id": "zlXccqKokN-u",
    "outputId": "bc849b0f-43ad-4783-f8ad-da88656026d0"
   },
   "outputs": [
    {
     "name": "stderr",
     "output_type": "stream",
     "text": [
      "100%|██████████| 19/19 [00:01<00:00, 10.27it/s]\n"
     ]
    },
    {
     "name": "stdout",
     "output_type": "stream",
     "text": [
      "loss on epoch 0: 7.425036\n"
     ]
    },
    {
     "name": "stderr",
     "output_type": "stream",
     "text": [
      "100%|██████████| 19/19 [00:01<00:00, 10.28it/s]\n"
     ]
    },
    {
     "name": "stdout",
     "output_type": "stream",
     "text": [
      "loss on epoch 1: 2.568357\n"
     ]
    },
    {
     "name": "stderr",
     "output_type": "stream",
     "text": [
      "100%|██████████| 19/19 [00:01<00:00, 12.33it/s]\n"
     ]
    },
    {
     "name": "stdout",
     "output_type": "stream",
     "text": [
      "loss on epoch 2: 1.059568\n"
     ]
    },
    {
     "name": "stderr",
     "output_type": "stream",
     "text": [
      "100%|██████████| 19/19 [00:01<00:00, 12.45it/s]\n"
     ]
    },
    {
     "name": "stdout",
     "output_type": "stream",
     "text": [
      "loss on epoch 3: 0.366317\n"
     ]
    },
    {
     "name": "stderr",
     "output_type": "stream",
     "text": [
      "100%|██████████| 19/19 [00:01<00:00, 11.33it/s]"
     ]
    },
    {
     "name": "stdout",
     "output_type": "stream",
     "text": [
      "loss on epoch 4: 0.108222\n"
     ]
    },
    {
     "name": "stderr",
     "output_type": "stream",
     "text": [
      "\n"
     ]
    }
   ],
   "source": [
    "###############################\n",
    "### DO NOT CHANGE THIS CELL ###\n",
    "###############################\n",
    "\n",
    "from rnn import RNN\n",
    "from tqdm import tqdm\n",
    "\n",
    "NUM_CLASSES = 2\n",
    "\n",
    "model = RNN(vocab, num_classes=NUM_CLASSES)\n",
    "model.to(device)\n",
    "criterion = nn.CrossEntropyLoss()\n",
    "optimizer = optim.Adam(model.parameters(), lr=0.01)\n",
    "N_EPOCHS = 5\n",
    "\n",
    "model.train()\n",
    "for epoch in range(N_EPOCHS):\n",
    "    total_loss = 0.0\n",
    "    for X, X_len, Y in tqdm(train_loader):\n",
    "        X = X.to(device)\n",
    "        Y = Y.to(device)\n",
    "        outputs = model(X, X_len)\n",
    "        loss = criterion(outputs, Y)\n",
    "\n",
    "        optimizer.zero_grad()\n",
    "        loss.backward()\n",
    "        optimizer.step()\n",
    "\n",
    "        total_loss += loss.item()\n",
    "\n",
    "    print(\"loss on epoch %i: %f\" % (epoch, total_loss))"
   ]
  },
  {
   "cell_type": "code",
   "execution_count": 40,
   "id": "fbf636e6",
   "metadata": {
    "colab": {
     "base_uri": "https://localhost:8080/",
     "height": 35
    },
    "id": "UjopZ85QsEcV",
    "outputId": "bac143d6-28f5-4f83-a18f-b00176d82080"
   },
   "outputs": [
    {
     "name": "stdout",
     "output_type": "stream",
     "text": [
      "Test Accuracy on Clickbait Dataset using RNN  : 0.970\n"
     ]
    }
   ],
   "source": [
    "###############################\n",
    "### DO NOT CHANGE THIS CELL ###\n",
    "###############################\n",
    "\n",
    "from sklearn.metrics import accuracy_score\n",
    "\n",
    "model.eval()\n",
    "with torch.no_grad():\n",
    "    Y_truth, Y_preds = [],[]\n",
    "    for X, X_len, Y in test_loader:\n",
    "        X = X.to(device)\n",
    "        outputs = model(X, X_len)\n",
    "\n",
    "        Y_truth.append(Y)\n",
    "        Y_preds.append(outputs)\n",
    "\n",
    "        break\n",
    "\n",
    "    Y_truth = torch.cat(Y_truth)\n",
    "    Y_preds = torch.cat(Y_preds)\n",
    "\n",
    "print(\"Test Accuracy on Clickbait Dataset using RNN  : {:.3f}\".format(accuracy_score(Y_truth.cpu().detach().numpy(), F.softmax(Y_preds, dim=-1).argmax(dim=-1).cpu().detach().numpy())))"
   ]
  },
  {
   "cell_type": "markdown",
   "id": "fd5edefb",
   "metadata": {
    "id": "i7JXqy4Yzj7R"
   },
   "source": [
    "### 🦉 <font color='darkred'>Submit these files to Gradescope</font>\n",
    "**Run the cell below to save the state of your model. You will be required to upload `best_rnn_model.pt` and the `rnn.py` file to Gradescope for accuracy evaluation. You must reach an accuracy of >= 85% on the above test dataset to receive credit for this section.**"
   ]
  },
  {
   "cell_type": "code",
   "execution_count": 41,
   "id": "aff59340",
   "metadata": {
    "colab": {
     "base_uri": "https://localhost:8080/",
     "height": 17
    },
    "id": "YIoYfQJtzkdX",
    "outputId": "81b2dfae-81e3-4576-d8e9-58e6e6a0647a"
   },
   "outputs": [],
   "source": [
    "###############################\n",
    "### DO NOT CHANGE THIS CELL ###\n",
    "###############################\n",
    "\n",
    "torch.save(model.state_dict(), 'best_rnn_model.pt')"
   ]
  },
  {
   "cell_type": "markdown",
   "id": "70430472",
   "metadata": {
    "id": "_sW4Am9kvdGA"
   },
   "source": [
    "## 3.3: Classifying Web of Science Dataset using RNN [No Points]\n",
    "\n",
    "Run the cells below to classify the WoS train and test dataset using the RNN functions that you have already implemented."
   ]
  },
  {
   "cell_type": "markdown",
   "id": "319fefdc",
   "metadata": {},
   "source": [
    "### 3.3.1: Create the Dataloaders [No Points]"
   ]
  },
  {
   "cell_type": "code",
   "execution_count": 21,
   "id": "56950773",
   "metadata": {
    "colab": {
     "base_uri": "https://localhost:8080/",
     "height": 17
    },
    "id": "DPZE5g1uRI_I",
    "outputId": "5b47c0ad-5e17-4424-c482-2d102e746fbe"
   },
   "outputs": [],
   "source": [
    "###############################\n",
    "### DO NOT CHANGE THIS CELL ###\n",
    "###############################\n",
    "\n",
    "max_words = 0\n",
    "for t in x_train_wos:\n",
    "    max_words = max(max_words, len(vocab_wos(tokenizer(t))))\n",
    "\n",
    "def vectorize_batch(batch):\n",
    "    Y, X = list(zip(*batch))\n",
    "    X = [vocab_wos(tokenizer(text)) for text in X] ## Tokenize and map tokens to indexes\n",
    "    X_len = [len(text) for text in X]\n",
    "    X = [tokens+([0]* (max_words-len(tokens))) if len(tokens)<max_words else tokens[:max_words] for tokens in X] \n",
    "    return torch.tensor(X, dtype=torch.int32), torch.tensor(X_len), torch.tensor(Y)"
   ]
  },
  {
   "cell_type": "code",
   "execution_count": 22,
   "id": "47453368",
   "metadata": {
    "colab": {
     "base_uri": "https://localhost:8080/",
     "height": 17
    },
    "id": "1ypsgOIIRUFm",
    "outputId": "6c795bf1-88db-46e4-ec3e-606d7aaf0dfb"
   },
   "outputs": [],
   "source": [
    "###############################\n",
    "### DO NOT CHANGE THIS CELL ###\n",
    "###############################\n",
    "\n",
    "train_dataset = list(map(lambda y, x: (y, x), y_train_wos, x_train_wos))\n",
    "test_dataset = list(map(lambda y, x: (y, x), y_test_wos, x_test_wos))\n",
    "\n",
    "train_loader = DataLoader(train_dataset, batch_size=128, collate_fn=vectorize_batch, shuffle=True)\n",
    "test_loader  = DataLoader(test_dataset, batch_size=128, collate_fn=vectorize_batch)"
   ]
  },
  {
   "cell_type": "markdown",
   "id": "6bbcebe9",
   "metadata": {},
   "source": [
    "### 3.3.2: Train and Evaluate on the Web of Science dataset [No Points]\n"
   ]
  },
  {
   "cell_type": "code",
   "execution_count": 23,
   "id": "df8afa7e",
   "metadata": {
    "colab": {
     "base_uri": "https://localhost:8080/",
     "height": 731
    },
    "id": "195yI5vSvhWr",
    "outputId": "1b605091-1ba2-4735-df9d-3f53477f8403",
    "scrolled": true
   },
   "outputs": [
    {
     "name": "stderr",
     "output_type": "stream",
     "text": [
      "100%|██████████| 13/13 [00:12<00:00,  1.05it/s]\n"
     ]
    },
    {
     "name": "stdout",
     "output_type": "stream",
     "text": [
      "loss on epoch 0: 17.612138\n"
     ]
    },
    {
     "name": "stderr",
     "output_type": "stream",
     "text": [
      "100%|██████████| 13/13 [00:14<00:00,  1.10s/it]\n"
     ]
    },
    {
     "name": "stdout",
     "output_type": "stream",
     "text": [
      "loss on epoch 1: 16.029049\n"
     ]
    },
    {
     "name": "stderr",
     "output_type": "stream",
     "text": [
      "100%|██████████| 13/13 [00:13<00:00,  1.02s/it]\n"
     ]
    },
    {
     "name": "stdout",
     "output_type": "stream",
     "text": [
      "loss on epoch 2: 15.132731\n"
     ]
    },
    {
     "name": "stderr",
     "output_type": "stream",
     "text": [
      "100%|██████████| 13/13 [00:12<00:00,  1.05it/s]\n"
     ]
    },
    {
     "name": "stdout",
     "output_type": "stream",
     "text": [
      "loss on epoch 3: 14.355299\n"
     ]
    },
    {
     "name": "stderr",
     "output_type": "stream",
     "text": [
      "100%|██████████| 13/13 [00:14<00:00,  1.11s/it]\n"
     ]
    },
    {
     "name": "stdout",
     "output_type": "stream",
     "text": [
      "loss on epoch 4: 13.618765\n"
     ]
    },
    {
     "name": "stderr",
     "output_type": "stream",
     "text": [
      "100%|██████████| 13/13 [00:16<00:00,  1.26s/it]\n"
     ]
    },
    {
     "name": "stdout",
     "output_type": "stream",
     "text": [
      "loss on epoch 5: 12.736869\n"
     ]
    },
    {
     "name": "stderr",
     "output_type": "stream",
     "text": [
      "100%|██████████| 13/13 [00:15<00:00,  1.17s/it]\n"
     ]
    },
    {
     "name": "stdout",
     "output_type": "stream",
     "text": [
      "loss on epoch 6: 11.843047\n"
     ]
    },
    {
     "name": "stderr",
     "output_type": "stream",
     "text": [
      "100%|██████████| 13/13 [00:13<00:00,  1.01s/it]\n"
     ]
    },
    {
     "name": "stdout",
     "output_type": "stream",
     "text": [
      "loss on epoch 7: 10.810405\n"
     ]
    },
    {
     "name": "stderr",
     "output_type": "stream",
     "text": [
      "100%|██████████| 13/13 [00:13<00:00,  1.06s/it]\n"
     ]
    },
    {
     "name": "stdout",
     "output_type": "stream",
     "text": [
      "loss on epoch 8: 9.738165\n"
     ]
    },
    {
     "name": "stderr",
     "output_type": "stream",
     "text": [
      "100%|██████████| 13/13 [00:12<00:00,  1.04it/s]\n"
     ]
    },
    {
     "name": "stdout",
     "output_type": "stream",
     "text": [
      "loss on epoch 9: 8.634564\n"
     ]
    },
    {
     "name": "stderr",
     "output_type": "stream",
     "text": [
      "100%|██████████| 13/13 [00:12<00:00,  1.03it/s]\n"
     ]
    },
    {
     "name": "stdout",
     "output_type": "stream",
     "text": [
      "loss on epoch 10: 7.691846\n"
     ]
    },
    {
     "name": "stderr",
     "output_type": "stream",
     "text": [
      "100%|██████████| 13/13 [00:11<00:00,  1.15it/s]\n"
     ]
    },
    {
     "name": "stdout",
     "output_type": "stream",
     "text": [
      "loss on epoch 11: 6.717731\n"
     ]
    },
    {
     "name": "stderr",
     "output_type": "stream",
     "text": [
      "100%|██████████| 13/13 [00:11<00:00,  1.10it/s]\n"
     ]
    },
    {
     "name": "stdout",
     "output_type": "stream",
     "text": [
      "loss on epoch 12: 5.641625\n"
     ]
    },
    {
     "name": "stderr",
     "output_type": "stream",
     "text": [
      "100%|██████████| 13/13 [00:12<00:00,  1.03it/s]\n"
     ]
    },
    {
     "name": "stdout",
     "output_type": "stream",
     "text": [
      "loss on epoch 13: 4.795574\n"
     ]
    },
    {
     "name": "stderr",
     "output_type": "stream",
     "text": [
      "100%|██████████| 13/13 [00:13<00:00,  1.07s/it]\n"
     ]
    },
    {
     "name": "stdout",
     "output_type": "stream",
     "text": [
      "loss on epoch 14: 4.043821\n"
     ]
    },
    {
     "name": "stderr",
     "output_type": "stream",
     "text": [
      "100%|██████████| 13/13 [00:15<00:00,  1.23s/it]\n"
     ]
    },
    {
     "name": "stdout",
     "output_type": "stream",
     "text": [
      "loss on epoch 15: 3.472206\n"
     ]
    },
    {
     "name": "stderr",
     "output_type": "stream",
     "text": [
      "100%|██████████| 13/13 [00:14<00:00,  1.08s/it]\n"
     ]
    },
    {
     "name": "stdout",
     "output_type": "stream",
     "text": [
      "loss on epoch 16: 2.918774\n"
     ]
    },
    {
     "name": "stderr",
     "output_type": "stream",
     "text": [
      "100%|██████████| 13/13 [00:13<00:00,  1.03s/it]\n"
     ]
    },
    {
     "name": "stdout",
     "output_type": "stream",
     "text": [
      "loss on epoch 17: 2.486674\n"
     ]
    },
    {
     "name": "stderr",
     "output_type": "stream",
     "text": [
      "100%|██████████| 13/13 [00:13<00:00,  1.02s/it]\n"
     ]
    },
    {
     "name": "stdout",
     "output_type": "stream",
     "text": [
      "loss on epoch 18: 1.917368\n"
     ]
    },
    {
     "name": "stderr",
     "output_type": "stream",
     "text": [
      "100%|██████████| 13/13 [00:12<00:00,  1.03it/s]"
     ]
    },
    {
     "name": "stdout",
     "output_type": "stream",
     "text": [
      "loss on epoch 19: 1.623561\n"
     ]
    },
    {
     "name": "stderr",
     "output_type": "stream",
     "text": [
      "\n"
     ]
    }
   ],
   "source": [
    "###############################\n",
    "### DO NOT CHANGE THIS CELL ###\n",
    "###############################\n",
    "\n",
    "from rnn import RNN\n",
    "from tqdm import tqdm\n",
    "\n",
    "NUM_CLASSES = 4\n",
    "\n",
    "model = RNN(vocab_wos, num_classes=NUM_CLASSES)\n",
    "model.to(device)\n",
    "criterion = nn.CrossEntropyLoss()\n",
    "optimizer = optim.Adam(model.parameters(), lr=0.001)\n",
    "N_EPOCHS = 20\n",
    "\n",
    "model.train()\n",
    "for epoch in range(N_EPOCHS):\n",
    "    total_loss = 0.0\n",
    "    for X, X_len, Y in tqdm(train_loader):\n",
    "        X = X.to(device)\n",
    "        Y = Y.to(device)\n",
    "        outputs = model(X, X_len)\n",
    "        loss = criterion(outputs, Y)\n",
    "\n",
    "        optimizer.zero_grad()\n",
    "        loss.backward()\n",
    "        optimizer.step()\n",
    "\n",
    "        total_loss += loss.item()\n",
    "\n",
    "    print(\"loss on epoch %i: %f\" % (epoch, total_loss))"
   ]
  },
  {
   "cell_type": "code",
   "execution_count": 24,
   "id": "475a2dba",
   "metadata": {
    "colab": {
     "base_uri": "https://localhost:8080/",
     "height": 35
    },
    "id": "ltNFDxdyvt-k",
    "outputId": "f9f407e2-4540-4955-c8db-b4b5543e1eb3"
   },
   "outputs": [
    {
     "name": "stdout",
     "output_type": "stream",
     "text": [
      "Test Accuracy on WoS Dataset using RNN  : 0.477\n"
     ]
    }
   ],
   "source": [
    "###############################\n",
    "### DO NOT CHANGE THIS CELL ###\n",
    "###############################\n",
    "\n",
    "from sklearn.metrics import accuracy_score\n",
    "\n",
    "model.eval()\n",
    "with torch.no_grad():\n",
    "    Y_truth, Y_preds = [],[]\n",
    "    for X, X_len, Y in test_loader:\n",
    "        X = X.to(device)\n",
    "        outputs = model(X, X_len)\n",
    "\n",
    "        Y_truth.append(Y)\n",
    "        Y_preds.append(outputs)\n",
    "\n",
    "    Y_truth = torch.cat(Y_truth)\n",
    "    Y_preds = torch.cat(Y_preds)\n",
    "\n",
    "print(\"Test Accuracy on WoS Dataset using RNN  : {:.3f}\".format(accuracy_score(Y_truth.cpu().detach().numpy(), F.softmax(Y_preds, dim=-1).argmax(dim=-1).cpu().detach().numpy())))"
   ]
  },
  {
   "cell_type": "markdown",
   "id": "228f8400",
   "metadata": {
    "id": "Kb6rhadO0UEq"
   },
   "source": [
    "**NOTE** : RNN alone is not able to perform well on the WoS dataset and that can be attributed to the very limited data with large vocabulary and lack of embedding structure."
   ]
  },
  {
   "cell_type": "markdown",
   "id": "19d90e03",
   "metadata": {},
   "source": [
    "## Q4: Classification with NN [3.75pts Bonus Extra Credit]\n",
    "\n",
    "You may have noticed that both CNN and RNN did not perform as well on the Web of Science dataset as other machine learning algorithms that we explored in previous homeworks. It is possible that the limited dataset compared to the complexity of the CNN and RNN network was not sufficient to train these networks to a high enough accuracy. In this bonus question, we ask you to explore how a two layer neural net would fare on the Web of Science dataset. You will need to implement a two layer neural net using pytorch's linear layers as well as write your own training loop to train your model."
   ]
  },
  {
   "cell_type": "markdown",
   "id": "285d6379",
   "metadata": {},
   "source": [
    "### 4.1: Implementing NN Classifier [1.25 pts Bonus Extra Credit]\n",
    "Implement your two layer neural net. We require your model to have exactly two linear layers to pass the autograder and that you adhere to the specified input and output shapes. You are free to design the rest of your network as you see fit and use any non-linearity or dropout layers to obtain the necessary accuracy.\n",
    "\n",
    "In the **nn.py** file complete the following functions:\n",
    "  * <strong>\\_\\_init__</strong>\n",
    "  * <strong>forward</strong>"
   ]
  },
  {
   "cell_type": "markdown",
   "id": "71ec4b13",
   "metadata": {},
   "source": [
    "### 4.2: Local Tests for NN Functions [No Points]\n",
    "You may test your implementation of the functions contained in **nn.py** in the cell below. Feel free to comment out tests for functions that have not been completed yet. See [Using the Local Tests](#using_local_tests) for more details."
   ]
  },
  {
   "cell_type": "code",
   "execution_count": 25,
   "id": "272e0d28",
   "metadata": {},
   "outputs": [
    {
     "name": "stdout",
     "output_type": "stream",
     "text": [
      "Local Tests for NN Implementation \n",
      "\n",
      "Your forward accepts and outputs the expected shapes: True\n"
     ]
    }
   ],
   "source": [
    "###############################\n",
    "### DO NOT CHANGE THIS CELL ###\n",
    "###############################\n",
    "\n",
    "from nn import NN\n",
    "from local_tests.nn_test import NN_Test\n",
    "\n",
    "local_test = NN_Test()\n",
    "sample_input = torch.cat([torch.tensor(sample_input[0]).unsqueeze(0) for sample_input in torch.load('./data/bonus_train_wos.pt')[:3]])\n",
    "nn_model = NN(feat_size = sample_input.shape[-1], num_classes=4)\n",
    "\n",
    "print('Local Tests for NN Implementation \\n')\n",
    "\n",
    "# Local test for forward\n",
    "output = nn_model.forward(sample_input)\n",
    "forward_test = (output.shape == local_test.sample_output.shape)\n",
    "print('Your forward accepts and outputs the expected shapes:', forward_test)"
   ]
  },
  {
   "cell_type": "markdown",
   "id": "80f706bd",
   "metadata": {},
   "source": [
    "### 4.3: Loading and Preprocessing the Web of Science Dataset [No Points]\n",
    "For this exercise, we will use sklearn's TFIDF Vectorizer to encode and then PCA to reduce the dimensionality of the Web of Science dataset. "
   ]
  },
  {
   "cell_type": "code",
   "execution_count": 26,
   "id": "5eaebc7b",
   "metadata": {},
   "outputs": [],
   "source": [
    "###############################\n",
    "### DO NOT CHANGE THIS CELL ###\n",
    "###############################\n",
    "\n",
    "# This cell may take a minute or so to run\n",
    "\n",
    "from sklearn.feature_extraction.text import CountVectorizer, TfidfVectorizer\n",
    "from sklearn.decomposition import PCA\n",
    "from torch.utils.data import DataLoader\n",
    "\n",
    "# Encode the Web of Science dataset using TFIDF\n",
    "tfidf_vect = TfidfVectorizer(analyzer='word', stop_words='english')\n",
    "x_train_tfidf_wos = tfidf_vect.fit_transform(x_train_wos).toarray()\n",
    "x_test_tfidf_wos = tfidf_vect.transform(x_test_wos).toarray()\n",
    "\n",
    "# Reduce the dimensionality of the encoded dataset \n",
    "pca = PCA(n_components=1024)\n",
    "pca.fit(x_train_tfidf_wos)\n",
    "x_train_wos_pca = pca.transform(x_train_tfidf_wos).astype('float32')\n",
    "x_test_wos_pca = pca.transform(x_test_tfidf_wos).astype('float32')\n",
    "\n",
    "train_dataset = list(zip(x_train_wos_pca, y_train_wos)) \n",
    "test_dataset = list(zip(x_test_wos_pca, y_test_wos)) \n",
    "\n",
    "# Uncomment for use if there is a discrepancy in testing accuracy between notebook and gradescope\n",
    "# train_dataset = torch.load('./data/bonus_train_wos.pt')\n",
    "# test_dataset = torch.load('./data/bonus_test_wos.pt')\n",
    "\n",
    "train_loader = DataLoader(train_dataset, batch_size=128,  shuffle=True)\n",
    "test_loader  = DataLoader(test_dataset, batch_size=128)"
   ]
  },
  {
   "cell_type": "markdown",
   "id": "cc3b0fa8",
   "metadata": {},
   "source": [
    "### 4.4: Training Your Model & Testing Accuracy [2.5pts Bonus Extra Credit]\n",
    "Here you will write your own training loop. You are free to decide on the criterion, optimizer, and various hyperparameters required for training. Keep in mind that you are building a classifier and some criterions are more suited for this task than others. Your model must be able to accept the data from train_loader and output the expected shape."
   ]
  },
  {
   "cell_type": "code",
   "execution_count": 31,
   "id": "961df587",
   "metadata": {},
   "outputs": [
    {
     "name": "stderr",
     "output_type": "stream",
     "text": [
      "100%|██████████| 13/13 [00:00<00:00, 533.51it/s]\n"
     ]
    },
    {
     "name": "stdout",
     "output_type": "stream",
     "text": [
      "loss on epoch 0: 18.016247\n"
     ]
    },
    {
     "name": "stderr",
     "output_type": "stream",
     "text": [
      "100%|██████████| 13/13 [00:00<00:00, 671.73it/s]\n"
     ]
    },
    {
     "name": "stdout",
     "output_type": "stream",
     "text": [
      "loss on epoch 1: 17.880837\n"
     ]
    },
    {
     "name": "stderr",
     "output_type": "stream",
     "text": [
      "100%|██████████| 13/13 [00:00<00:00, 573.52it/s]\n"
     ]
    },
    {
     "name": "stdout",
     "output_type": "stream",
     "text": [
      "loss on epoch 2: 17.682848\n"
     ]
    },
    {
     "name": "stderr",
     "output_type": "stream",
     "text": [
      "100%|██████████| 13/13 [00:00<00:00, 504.52it/s]\n"
     ]
    },
    {
     "name": "stdout",
     "output_type": "stream",
     "text": [
      "loss on epoch 3: 17.370517\n"
     ]
    },
    {
     "name": "stderr",
     "output_type": "stream",
     "text": [
      "100%|██████████| 13/13 [00:00<00:00, 568.61it/s]\n"
     ]
    },
    {
     "name": "stdout",
     "output_type": "stream",
     "text": [
      "loss on epoch 4: 16.910573\n"
     ]
    },
    {
     "name": "stderr",
     "output_type": "stream",
     "text": [
      "100%|██████████| 13/13 [00:00<00:00, 641.94it/s]\n"
     ]
    },
    {
     "name": "stdout",
     "output_type": "stream",
     "text": [
      "loss on epoch 5: 16.262472\n"
     ]
    },
    {
     "name": "stderr",
     "output_type": "stream",
     "text": [
      "100%|██████████| 13/13 [00:00<00:00, 585.61it/s]\n"
     ]
    },
    {
     "name": "stdout",
     "output_type": "stream",
     "text": [
      "loss on epoch 6: 15.430924\n"
     ]
    },
    {
     "name": "stderr",
     "output_type": "stream",
     "text": [
      "100%|██████████| 13/13 [00:00<00:00, 643.98it/s]\n"
     ]
    },
    {
     "name": "stdout",
     "output_type": "stream",
     "text": [
      "loss on epoch 7: 14.403643\n"
     ]
    },
    {
     "name": "stderr",
     "output_type": "stream",
     "text": [
      "100%|██████████| 13/13 [00:00<00:00, 690.53it/s]\n"
     ]
    },
    {
     "name": "stdout",
     "output_type": "stream",
     "text": [
      "loss on epoch 8: 13.356027\n"
     ]
    },
    {
     "name": "stderr",
     "output_type": "stream",
     "text": [
      "100%|██████████| 13/13 [00:00<00:00, 559.65it/s]\n"
     ]
    },
    {
     "name": "stdout",
     "output_type": "stream",
     "text": [
      "loss on epoch 9: 12.152110\n"
     ]
    },
    {
     "name": "stderr",
     "output_type": "stream",
     "text": [
      "100%|██████████| 13/13 [00:00<00:00, 658.13it/s]\n"
     ]
    },
    {
     "name": "stdout",
     "output_type": "stream",
     "text": [
      "loss on epoch 10: 10.953552\n"
     ]
    },
    {
     "name": "stderr",
     "output_type": "stream",
     "text": [
      "100%|██████████| 13/13 [00:00<00:00, 597.37it/s]\n"
     ]
    },
    {
     "name": "stdout",
     "output_type": "stream",
     "text": [
      "loss on epoch 11: 9.827563\n"
     ]
    },
    {
     "name": "stderr",
     "output_type": "stream",
     "text": [
      "100%|██████████| 13/13 [00:00<00:00, 376.03it/s]\n"
     ]
    },
    {
     "name": "stdout",
     "output_type": "stream",
     "text": [
      "loss on epoch 12: 8.637983\n"
     ]
    },
    {
     "name": "stderr",
     "output_type": "stream",
     "text": [
      "100%|██████████| 13/13 [00:00<00:00, 365.40it/s]\n"
     ]
    },
    {
     "name": "stdout",
     "output_type": "stream",
     "text": [
      "loss on epoch 13: 7.590499\n"
     ]
    },
    {
     "name": "stderr",
     "output_type": "stream",
     "text": [
      "100%|██████████| 13/13 [00:00<00:00, 432.27it/s]\n"
     ]
    },
    {
     "name": "stdout",
     "output_type": "stream",
     "text": [
      "loss on epoch 14: 6.736963\n"
     ]
    },
    {
     "name": "stderr",
     "output_type": "stream",
     "text": [
      "100%|██████████| 13/13 [00:00<00:00, 444.71it/s]\n"
     ]
    },
    {
     "name": "stdout",
     "output_type": "stream",
     "text": [
      "loss on epoch 15: 5.851610\n"
     ]
    },
    {
     "name": "stderr",
     "output_type": "stream",
     "text": [
      "100%|██████████| 13/13 [00:00<00:00, 421.86it/s]\n"
     ]
    },
    {
     "name": "stdout",
     "output_type": "stream",
     "text": [
      "loss on epoch 16: 5.141316\n"
     ]
    },
    {
     "name": "stderr",
     "output_type": "stream",
     "text": [
      "100%|██████████| 13/13 [00:00<00:00, 457.20it/s]\n"
     ]
    },
    {
     "name": "stdout",
     "output_type": "stream",
     "text": [
      "loss on epoch 17: 4.537453\n"
     ]
    },
    {
     "name": "stderr",
     "output_type": "stream",
     "text": [
      "100%|██████████| 13/13 [00:00<00:00, 476.85it/s]\n"
     ]
    },
    {
     "name": "stdout",
     "output_type": "stream",
     "text": [
      "loss on epoch 18: 3.991271\n"
     ]
    },
    {
     "name": "stderr",
     "output_type": "stream",
     "text": [
      "100%|██████████| 13/13 [00:00<00:00, 458.20it/s]"
     ]
    },
    {
     "name": "stdout",
     "output_type": "stream",
     "text": [
      "loss on epoch 19: 3.510546\n"
     ]
    },
    {
     "name": "stderr",
     "output_type": "stream",
     "text": [
      "\n"
     ]
    }
   ],
   "source": [
    "from nn import NN\n",
    "\n",
    "NUM_CLASSES = 4\n",
    "feat_size = train_dataset[0][0].shape[0]\n",
    "model = NN(feat_size, num_classes=NUM_CLASSES)\n",
    "\n",
    "# TODO: Write your own training loop using train_loader. You will need to choose a criterion and optimizer. \n",
    "\n",
    "# Train the model\n",
    "model.to(device)\n",
    "criterion = nn.CrossEntropyLoss()\n",
    "optimizer = optim.Adam(model.parameters(), lr=0.001)\n",
    "N_EPOCHS = 20\n",
    "\n",
    "model.train()\n",
    "for epoch in range(N_EPOCHS):\n",
    "    total_loss = 0.0\n",
    "    for X, Y in tqdm(train_loader):\n",
    "        X = X.to(device)\n",
    "        Y = Y.to(device)\n",
    "        outputs = model(X)\n",
    "        loss = criterion(outputs, Y)\n",
    "\n",
    "        optimizer.zero_grad()\n",
    "        loss.backward()\n",
    "        optimizer.step()\n",
    "\n",
    "        total_loss += loss.item()\n",
    "\n",
    "    print(\"loss on epoch %i: %f\" % (epoch, total_loss))\n"
   ]
  },
  {
   "cell_type": "markdown",
   "id": "af559884",
   "metadata": {},
   "source": [
    "After you have trained your model, run the below cell to see how your trained model performs with the testing dataset."
   ]
  },
  {
   "cell_type": "code",
   "execution_count": 32,
   "id": "283b37dc",
   "metadata": {},
   "outputs": [
    {
     "name": "stdout",
     "output_type": "stream",
     "text": [
      "Test Accuracy on WoS Dataset using NN  : 0.845\n"
     ]
    }
   ],
   "source": [
    "###############################\n",
    "### DO NOT CHANGE THIS CELL ###\n",
    "###############################\n",
    "\n",
    "from sklearn.metrics import accuracy_score\n",
    "\n",
    "model.eval()\n",
    "with torch.no_grad():\n",
    "    Y_truth, Y_preds = [],[]\n",
    "    for X, Y in test_loader:\n",
    "        X = X.to(device)\n",
    "        outputs = model(X)\n",
    "\n",
    "        Y_truth.append(Y)\n",
    "        Y_preds.append(outputs)\n",
    "\n",
    "    Y_truth = torch.cat(Y_truth)\n",
    "    Y_preds = torch.cat(Y_preds)\n",
    "\n",
    "curr_acc_score = accuracy_score(Y_truth.cpu().detach().numpy(), F.softmax(Y_preds, dim=-1).argmax(dim=-1).cpu().detach().numpy())\n",
    "print(\"Test Accuracy on WoS Dataset using NN  : {:.3f}\".format(curr_acc_score))"
   ]
  },
  {
   "cell_type": "markdown",
   "id": "a098801f",
   "metadata": {},
   "source": [
    "### 🦥 <font color='darkred'>Submit these files to Gradescope</font>\n",
    "**Run the cell below to save the state of your model. You will be required to upload `best_nn_model.pt` and the `nn.py` file to Gradescope for accuracy evaluation. You must reach an accuracy of >= 80% on the above test dataset to receive credit for this section.**"
   ]
  },
  {
   "cell_type": "code",
   "execution_count": 33,
   "id": "ac863840",
   "metadata": {},
   "outputs": [],
   "source": [
    "###############################\n",
    "### DO NOT CHANGE THIS CELL ###\n",
    "###############################\n",
    "\n",
    "torch.save(model.state_dict(), 'best_nn_model.pt')"
   ]
  },
  {
   "cell_type": "markdown",
   "id": "47fb1621",
   "metadata": {},
   "source": [
    "**Congrats, you have reached the end of Homework 3 😎**"
   ]
  }
 ],
 "metadata": {
  "accelerator": "GPU",
  "colab": {
   "collapsed_sections": [
    "-Np3UUmtFUjd",
    "4TLUiFFR7wlL",
    "dRvybL9rYxcQ",
    "_sW4Am9kvdGA"
   ],
   "provenance": []
  },
  "gpuClass": "standard",
  "kernelspec": {
   "display_name": "Python 3.8.18 ('nlp_hw3')",
   "language": "python",
   "name": "python3"
  },
  "language_info": {
   "codemirror_mode": {
    "name": "ipython",
    "version": 3
   },
   "file_extension": ".py",
   "mimetype": "text/x-python",
   "name": "python",
   "nbconvert_exporter": "python",
   "pygments_lexer": "ipython3",
   "version": "3.8.18"
  },
  "vscode": {
   "interpreter": {
    "hash": "06307ca7342edf6a48423dc359619f03ad12a001e05dcf27bc63f1084c01a7a0"
   }
  }
 },
 "nbformat": 4,
 "nbformat_minor": 5
}
